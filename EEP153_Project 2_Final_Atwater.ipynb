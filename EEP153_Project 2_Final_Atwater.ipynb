{
 "cells": [
  {
   "cell_type": "markdown",
   "id": "7e9a43d6",
   "metadata": {},
   "source": [
    "# EEP 153 Project 2: Group Atwater\n",
    "\n",
    "### Minimum Cost Diet:\n",
    "\n",
    "**Topic:**\n",
    "Cost comparison of a minimized vegetarian diet for Berkeley residents across 5 different local grocery stores (shopping at one among Safeway, Trader Joe's, Amazon Fresh, Berkeley Bowl, Sprout's)\n",
    "\n",
    "**Objectives:**\n",
    "\n",
    "1. Explore different grocery store options to maintain a cost-minimized vegetarian diet in the city of Berkeley using a linear programming model based on the Stigler Diet Problem.\n",
    "2. Create and evaluate vegetarian recipes that meet the minimum nutrient requirements for different sex and age groups\n",
    "3. Utilize multiple data visualizations to compare and contrast the cost efficiency of a vegetarian diet across 5 different grocery stores in Berkeley"
   ]
  },
  {
   "cell_type": "markdown",
   "id": "0b51741b",
   "metadata": {},
   "source": [
    "## Table of contents\n",
    "1. [[A] Description of Population of Interest](#pop)\n",
    "2. [[A] Dietary Reference Intakes](#dietre)\n",
    "3. [[A] Google Sheet on Prices for Different Foods](#google)\n",
    "4. [[A] Nutritional Content of Different Foods](#nutr)\n",
    "5. [[A] Solution to the Minimum-Cost-Diet  Problem](#sol)\n",
    "6. [[B] Is our solution edible?](#edi)\n",
    "7. [[B] Meal Reviews](#rev)\n",
    "8. [[C] Sensitivity of Solution](#sen)\n",
    "9. [[C] Visualization of Comparisons](#vis)\n",
    "10. [Response & Improvment after Code Review](#res)\n",
    "\n"
   ]
  },
  {
   "cell_type": "markdown",
   "id": "2f9452dd",
   "metadata": {},
   "source": [
    "## Import All Data Libraries "
   ]
  },
  {
   "cell_type": "code",
   "execution_count": 14,
   "id": "5cf21b9a",
   "metadata": {},
   "outputs": [
    {
     "name": "stdout",
     "output_type": "stream",
     "text": [
      "Requirement already satisfied: numpy>=1.20.3 in /opt/conda/lib/python3.9/site-packages (from -r requirements.txt (line 4)) (1.21.5)\n",
      "Requirement already satisfied: pandas>=1.2.5 in /opt/conda/lib/python3.9/site-packages (from -r requirements.txt (line 7)) (1.3.5)\n",
      "Requirement already satisfied: pint>=0.18 in /opt/conda/lib/python3.9/site-packages (from -r requirements.txt (line 10)) (0.18)\n",
      "Requirement already satisfied: requests>=2.26.0 in /opt/conda/lib/python3.9/site-packages (from -r requirements.txt (line 13)) (2.26.0)\n",
      "Requirement already satisfied: eep153_tools in /opt/conda/lib/python3.9/site-packages (from -r requirements.txt (line 15)) (0.11)\n",
      "Requirement already satisfied: gnupg in /opt/conda/lib/python3.9/site-packages (from -r requirements.txt (line 17)) (2.3.1)\n",
      "Requirement already satisfied: python-dateutil>=2.7.3 in /opt/conda/lib/python3.9/site-packages (from pandas>=1.2.5->-r requirements.txt (line 7)) (2.8.0)\n",
      "Requirement already satisfied: pytz>=2017.3 in /opt/conda/lib/python3.9/site-packages (from pandas>=1.2.5->-r requirements.txt (line 7)) (2021.1)\n",
      "Requirement already satisfied: packaging in /opt/conda/lib/python3.9/site-packages (from pint>=0.18->-r requirements.txt (line 10)) (21.3)\n",
      "Requirement already satisfied: urllib3<1.27,>=1.21.1 in /opt/conda/lib/python3.9/site-packages (from requests>=2.26.0->-r requirements.txt (line 13)) (1.25.7)\n",
      "Requirement already satisfied: idna<4,>=2.5; python_version >= \"3\" in /opt/conda/lib/python3.9/site-packages (from requests>=2.26.0->-r requirements.txt (line 13)) (2.8)\n",
      "Requirement already satisfied: certifi>=2017.4.17 in /opt/conda/lib/python3.9/site-packages (from requests>=2.26.0->-r requirements.txt (line 13)) (2019.11.28)\n",
      "Requirement already satisfied: charset-normalizer~=2.0.0; python_version >= \"3\" in /opt/conda/lib/python3.9/site-packages (from requests>=2.26.0->-r requirements.txt (line 13)) (2.0.0)\n",
      "Requirement already satisfied: psutil>=1.2.1 in /opt/conda/lib/python3.9/site-packages (from gnupg->-r requirements.txt (line 17)) (5.9.0)\n",
      "Requirement already satisfied: six>=1.5 in /opt/conda/lib/python3.9/site-packages (from python-dateutil>=2.7.3->pandas>=1.2.5->-r requirements.txt (line 7)) (1.16.0)\n",
      "Requirement already satisfied: pyparsing!=3.0.5,>=2.0.2 in /opt/conda/lib/python3.9/site-packages (from packaging->pint>=0.18->-r requirements.txt (line 10)) (3.0.7)\n",
      "Requirement already satisfied: eep153_tools in /opt/conda/lib/python3.9/site-packages (0.11)\n"
     ]
    },
    {
     "data": {
      "text/html": [
       "        <script type=\"text/javascript\">\n",
       "        window.PlotlyConfig = {MathJaxConfig: 'local'};\n",
       "        if (window.MathJax) {MathJax.Hub.Config({SVG: {font: \"STIX-Web\"}});}\n",
       "        if (typeof require !== 'undefined') {\n",
       "        require.undef(\"plotly\");\n",
       "        requirejs.config({\n",
       "            paths: {\n",
       "                'plotly': ['https://cdn.plot.ly/plotly-2.3.1.min']\n",
       "            }\n",
       "        });\n",
       "        require(['plotly'], function(Plotly) {\n",
       "            window._Plotly = Plotly;\n",
       "        });\n",
       "        }\n",
       "        </script>\n",
       "        "
      ]
     },
     "metadata": {},
     "output_type": "display_data"
    }
   ],
   "source": [
    "!pip install -r requirements.txt\n",
    "!pip install eep153_tools\n",
    "\n",
    "import pandas as pd\n",
    "import pandas as pd\n",
    "import numpy as np\n",
    "import fooddatacentral as fdc\n",
    "from  scipy.optimize import linprog as lp\n",
    "\n",
    "import warnings\n",
    "import ipywidgets\n",
    "from ipywidgets import interactive, fixed, interact, Dropdown\n",
    "\n",
    "import plotly.offline as py\n",
    "import plotly.graph_objs as go\n",
    "import cufflinks as cf\n",
    "cf.go_offline()\n",
    "\n",
    "from eep153_tools.sheets import read_sheets\n",
    "\n",
    "#personal apikey from FDC\n",
    "apikey = \"kY45fKdbAFHas9GpxBKlDyEYbwvfC00z17oKd3ba\" "
   ]
  },
  {
   "cell_type": "markdown",
   "id": "ffb0ead2",
   "metadata": {},
   "source": [
    "## [A] Description of Population of Interest <a name=\"pop\"></a>\n",
    "\n",
    "We are focusing on the **vegetarian population in Berkeley, California**.\n",
    "\n",
    "In 2021, the city of Berkeley passed a resolution to slash the amount of animal products the city purchases by 50% by 2024. The resolution also adopted a long-term goal of phasing out all purchases of animal products and replacing them with plant-based foods.\n",
    "\n",
    "With an increased demand in vegetarian and vegan products, our project will present minimum cost vegetarian recipes with ingredients purchased from local Berkeley grocery stores, while still consuming the minimum nutrients required for the appropriate age groups. \n",
    "\n"
   ]
  },
  {
   "cell_type": "markdown",
   "id": "a3d3382c",
   "metadata": {},
   "source": [
    "## [A] Dietary Reference Intakes  <a name=\"dietre\"></a>\n",
    "\n",
    "A function that takes as arguments the characteristics of a person (age, sex) and returns a `pandas.Series` of Dietary Reference Intakes (DRI's) or \"Recommended Daily Allowances\" (RDA) of a variety of nutrients appropriate for your population of interest.\n",
    "\n",
    "**Input Parameters:**\n",
    "\n",
    "- **sex**: a str ('m', 'male', 'f', or 'female')\n",
    "- **age**: an integer "
   ]
  },
  {
   "cell_type": "code",
   "execution_count": 38,
   "id": "028d11e5",
   "metadata": {},
   "outputs": [],
   "source": [
    "#function that takes in the age and sex of an individual and returns the necessary nutritional intake for survival.\n",
    "#sex must be either male or female or M or F\n",
    "#age must be an integer\n",
    "def necessary_nutrients(age, sex):\n",
    "    bmin = pd.read_csv('./diet_minimums.csv').set_index('Nutrition').iloc[:,2:]\n",
    "    headers = bmin.columns.values\n",
    "    sex = sex.lower()\n",
    "    male = lambda x:x if 'M' in x or 'C' in x else None\n",
    "    female = lambda x:x if 'F' in x or 'C' in x else None\n",
    "    if sex == 'male' or sex == 'm':\n",
    "        filtered = [male(x) for x in headers]\n",
    "        cleaned = [x for x in filtered if x is not None]\n",
    "    elif sex == 'female' or sex == 'f':\n",
    "        filtered = [female(x) for x in headers]\n",
    "        cleaned = [x for x in filtered if x is not None]\n",
    "    if age < 4:\n",
    "        return bmin[cleaned[0]]\n",
    "    elif age < 9:\n",
    "        return bmin[cleaned[1]]\n",
    "    elif age < 14:\n",
    "        return bmin[cleaned[2]]\n",
    "    elif age < 19:\n",
    "        return bmin[cleaned[3]]\n",
    "    elif age < 31:\n",
    "        return bmin[cleaned[4]]\n",
    "    else:\n",
    "        return bmin[cleaned[5]]"
   ]
  },
  {
   "cell_type": "markdown",
   "id": "95528cb0",
   "metadata": {},
   "source": [
    "**Example:**"
   ]
  },
  {
   "cell_type": "code",
   "execution_count": 39,
   "id": "430ab6b7",
   "metadata": {},
   "outputs": [
    {
     "data": {
      "text/plain": [
       "Nutrition\n",
       "Energy                            2400.0\n",
       "Protein                             56.0\n",
       "Fiber, total dietary                33.6\n",
       "Folate, DFE                        400.0\n",
       "Calcium, Ca                       1000.0\n",
       "Carbohydrate, by difference        130.0\n",
       "Iron, Fe                             8.0\n",
       "Magnesium, Mg                      400.0\n",
       "Niacin                              16.0\n",
       "Phosphorus, P                      700.0\n",
       "Potassium, K                      4700.0\n",
       "Riboflavin                           1.3\n",
       "Thiamin                              1.2\n",
       "Vitamin A, RAE                     900.0\n",
       "Vitamin B-12                         2.4\n",
       "Vitamin B-6                          1.3\n",
       "Vitamin C, total ascorbic acid      90.0\n",
       "Vitamin E (alpha-tocopherol)        15.0\n",
       "Vitamin K (phylloquinone)          120.0\n",
       "Zinc, Zn                            11.0\n",
       "Name: M 19-30, dtype: float64"
      ]
     },
     "execution_count": 39,
     "metadata": {},
     "output_type": "execute_result"
    }
   ],
   "source": [
    "necessary_nutrients(age = 22, sex = 'male')"
   ]
  },
  {
   "cell_type": "code",
   "execution_count": 4,
   "id": "db2d6e04",
   "metadata": {},
   "outputs": [
    {
     "name": "stdout",
     "output_type": "stream",
     "text": [
      "Key available for students@eep153.iam.gserviceaccount.com.\n"
     ]
    }
   ],
   "source": [
    "DRI_url = \"https://docs.google.com/spreadsheets/d/1y95IsQ4HKspPW3HHDtH7QMtlDA66IUsCHJLutVL-MMc/\"\n",
    "\n",
    "DRIs = read_sheets(DRI_url)\n",
    "\n",
    "# Define *minimums*\n",
    "diet_min = DRIs['diet_minimums'].set_index('Nutrition')\n",
    "\n",
    "# Define *maximums*\n",
    "diet_max = DRIs['diet_maximums'].set_index('Nutrition')\n"
   ]
  },
  {
   "cell_type": "markdown",
   "id": "59b4f142",
   "metadata": {},
   "source": [
    "## [A] Google Sheet on Prices for Different Foods <a name=\"google\"></a>\n",
    "\n",
    "We have a basket of 45 different vegetarian food with prices from 5 different grocery stores around Berkeley (**Safeway, Trader Joe's, Amazon Fresh, Berkeley Bowl, Sprout's**)"
   ]
  },
  {
   "cell_type": "code",
   "execution_count": 5,
   "id": "85acd63c",
   "metadata": {},
   "outputs": [],
   "source": [
    "food_list = \"https://docs.google.com/spreadsheets/d/1qAbI2YBx-AV7IO_isbAJlCRNP-w40WxhcgfLH2USoYs/edit?usp=sharing\""
   ]
  },
  {
   "cell_type": "markdown",
   "id": "7aaea617",
   "metadata": {},
   "source": [
    "To access the different price breakdown from different stores, use the `food_df` function below that creates a DataFrame.\n",
    "\n",
    "**Input Parameter:**\n",
    "\n",
    "- **store**: a str with name of the store which is also the name of the individual sheet from the spreadsheet (\"Safeway\", \"Trader Joe's\", \"Amazon Fresh\", \"Berkeley Bowl\", or \"Sprout's\")"
   ]
  },
  {
   "cell_type": "code",
   "execution_count": 6,
   "id": "aa7d2015",
   "metadata": {},
   "outputs": [],
   "source": [
    "def food_df(store):\n",
    "    df = read_sheets(food_list)[f\"{store}\"]\n",
    "    return df"
   ]
  },
  {
   "cell_type": "markdown",
   "id": "e54351a9",
   "metadata": {},
   "source": [
    "**IMPORTANT: if you run into an API Error (for any of the function below), it is due to the stability of the server. Try rerunning the \"import data libraies\" cell and the function cell again; try reinitializing student.json with the \"noodle octopus\" passphrase; try restarting the kernel; or trying to replace the API key with your own. \n",
    "Unfortunately, it is possible for the problem to persist :(**  \n",
    "\n",
    "**Also, all the interactive plots only display in a live kernel; so, the PDF would not show interactive graphs**\n"
   ]
  },
  {
   "cell_type": "code",
   "execution_count": 7,
   "id": "f7620c41",
   "metadata": {},
   "outputs": [
    {
     "data": {
      "application/vnd.jupyter.widget-view+json": {
       "model_id": "2761407b23b14d6689227ba0ecbfe248",
       "version_major": 2,
       "version_minor": 0
      },
      "text/plain": [
       "interactive(children=(Dropdown(description='store', options=('Safeway', \"Trader Joe's\", 'Amazon Fresh', 'Berke…"
      ]
     },
     "metadata": {},
     "output_type": "display_data"
    },
    {
     "data": {
      "text/plain": [
       "<function __main__.food_df(store)>"
      ]
     },
     "execution_count": 7,
     "metadata": {},
     "output_type": "execute_result"
    }
   ],
   "source": [
    "#use the interact function to explore food info for different stores \n",
    "interact(food_df, store=[\"Safeway\", \"Trader Joe's\", \"Amazon Fresh\", \"Berkeley Bowl\", \"Sprout's\"])"
   ]
  },
  {
   "cell_type": "markdown",
   "id": "98a189d3",
   "metadata": {},
   "source": [
    "### Unit Conversion and Price per Unit\n",
    "\n",
    "In order to compare prices, the `unit_convert` function takes in a store name, converts all product into FDC unit, and returns a list of prices per unit for each food. \n",
    "\n",
    "**Input Parameter:**\n",
    "\n",
    "- **store**: a str with name of the store which is also the name of the individual sheet from the spreadsheet (\"Safeway\", \"Trader Joe's\", \"Amazon Fresh\", \"Berkeley Bowl\", or \"Sprout's\")"
   ]
  },
  {
   "cell_type": "code",
   "execution_count": 8,
   "id": "e353ee76",
   "metadata": {},
   "outputs": [],
   "source": [
    "def unit_convert(store):\n",
    "    df = food_df(store) \n",
    "\n",
    "    # Convert food quantities to FDC units\n",
    "    df['FDC Quantity'] = df[['Quantity','Units']].T.apply(lambda x : fdc.units(x['Quantity'],x['Units']))\n",
    "\n",
    "    # Now divide price by the FDC Quantity to get, e.g., price per hectoliter\n",
    "    df['FDC Price'] = df['Price']/df['FDC Quantity']\n",
    "\n",
    "    df.dropna(how='any') # Drop food with any missing data\n",
    "\n",
    "    # To use minimum price observed\n",
    "    Prices = df.groupby('Food')['FDC Price'].min()\n",
    "\n",
    "    return Prices\n"
   ]
  },
  {
   "cell_type": "code",
   "execution_count": 9,
   "id": "a2d1c4e7",
   "metadata": {},
   "outputs": [
    {
     "data": {
      "application/vnd.jupyter.widget-view+json": {
       "model_id": "dd88430258fa4609a9d42bf3d9f5089f",
       "version_major": 2,
       "version_minor": 0
      },
      "text/plain": [
       "interactive(children=(Dropdown(description='store', options=('Safeway', \"Trader Joe's\", 'Amazon Fresh', 'Berke…"
      ]
     },
     "metadata": {},
     "output_type": "display_data"
    },
    {
     "data": {
      "text/plain": [
       "<function __main__.unit_convert(store)>"
      ]
     },
     "execution_count": 9,
     "metadata": {},
     "output_type": "execute_result"
    }
   ],
   "source": [
    "#use the interact function to explore food info for different stores \n",
    "interact(unit_convert, store=[\"Safeway\", \"Trader Joe's\", \"Amazon Fresh\", \"Berkeley Bowl\", \"Sprout's\"])"
   ]
  },
  {
   "cell_type": "code",
   "execution_count": 10,
   "id": "72987dfa",
   "metadata": {},
   "outputs": [
    {
     "name": "stdout",
     "output_type": "stream",
     "text": [
      "Key available for students@eep153.iam.gserviceaccount.com.\n",
      "Key available for students@eep153.iam.gserviceaccount.com.\n",
      "Key available for students@eep153.iam.gserviceaccount.com.\n",
      "Key available for students@eep153.iam.gserviceaccount.com.\n",
      "Key available for students@eep153.iam.gserviceaccount.com.\n"
     ]
    }
   ],
   "source": [
    "safeway_p = unit_convert(\"Safeway\")\n",
    "TJ_p = unit_convert(\"Trader Joe's\")\n",
    "AF_p = unit_convert(\"Amazon Fresh\")\n",
    "BB_p = unit_convert(\"Berkeley Bowl\")\n",
    "sprouts_p = unit_convert(\"Sprout's\")\n"
   ]
  },
  {
   "cell_type": "markdown",
   "id": "b29e4d16",
   "metadata": {},
   "source": [
    "## [A] Nutritional Content of Different Foods <a name=\"nutr\"></a> \n"
   ]
  },
  {
   "cell_type": "markdown",
   "id": "1f17e26c",
   "metadata": {},
   "source": [
    "The 'nutrient' function takes in a store name and returns a DataFrame with the nutritional content of **45 different food** according to their FDC ID. \n",
    "\n",
    "**Input Parameter:**\n",
    "\n",
    "- **store**: a str with name of the store which is also the name of the individual sheet from the spreadsheet (\"Safeway\", \"Trader Joe's\", \"Amazon Fresh\", \"Berkeley Bowl\", or \"Sprout's\")"
   ]
  },
  {
   "cell_type": "code",
   "execution_count": 11,
   "id": "41ed1eaa",
   "metadata": {},
   "outputs": [],
   "source": [
    "def nutrient(store):\n",
    "    df = food_df(store)\n",
    "    D = {}\n",
    "    count = 0\n",
    "    for food in  df.Food.tolist():\n",
    "        try:\n",
    "            FDC = df.loc[df.Food==food,:].FDC[count]\n",
    "            count+=1\n",
    "            D[food] = fdc.nutrients(apikey,FDC).Quantity\n",
    "        except AttributeError: \n",
    "            warnings.warn(\"Couldn't find FDC Code %s for food %s.\" % (food,FDC))        \n",
    "\n",
    "    D = pd.DataFrame(D,dtype=float)\n",
    "\n",
    "    return D"
   ]
  },
  {
   "cell_type": "markdown",
   "id": "2876d6fb",
   "metadata": {},
   "source": [
    "**Generate the nutrient df for the 5 different stores:**\n",
    "\n",
    "**(These 5 cells do take a significantly longer time to run due to the large basket of goods)**"
   ]
  },
  {
   "cell_type": "code",
   "execution_count": 15,
   "id": "61b5f9de",
   "metadata": {},
   "outputs": [
    {
     "name": "stdout",
     "output_type": "stream",
     "text": [
      "Key available for students@eep153.iam.gserviceaccount.com.\n"
     ]
    }
   ],
   "source": [
    "safeway_n = nutrient(\"Safeway\")"
   ]
  },
  {
   "cell_type": "code",
   "execution_count": 16,
   "id": "198b59c5",
   "metadata": {},
   "outputs": [
    {
     "name": "stdout",
     "output_type": "stream",
     "text": [
      "Key available for students@eep153.iam.gserviceaccount.com.\n"
     ]
    }
   ],
   "source": [
    "TJ_n = nutrient(\"Trader Joe's\")"
   ]
  },
  {
   "cell_type": "code",
   "execution_count": 17,
   "id": "be534b52",
   "metadata": {},
   "outputs": [
    {
     "name": "stdout",
     "output_type": "stream",
     "text": [
      "Key available for students@eep153.iam.gserviceaccount.com.\n"
     ]
    }
   ],
   "source": [
    "AF_n = nutrient(\"Amazon Fresh\")"
   ]
  },
  {
   "cell_type": "code",
   "execution_count": 18,
   "id": "2fc48c23",
   "metadata": {},
   "outputs": [
    {
     "name": "stdout",
     "output_type": "stream",
     "text": [
      "Key available for students@eep153.iam.gserviceaccount.com.\n"
     ]
    }
   ],
   "source": [
    "BB_n = nutrient(\"Berkeley Bowl\")"
   ]
  },
  {
   "cell_type": "code",
   "execution_count": 19,
   "id": "1ec1df6d",
   "metadata": {},
   "outputs": [
    {
     "name": "stdout",
     "output_type": "stream",
     "text": [
      "Key available for students@eep153.iam.gserviceaccount.com.\n"
     ]
    }
   ],
   "source": [
    "sprouts_n = nutrient(\"Sprout's\")"
   ]
  },
  {
   "cell_type": "markdown",
   "id": "dc06b039",
   "metadata": {},
   "source": [
    "## [A] Solution to the Minimum-Cost-Diet  Problem <a name=\"sol\"></a> \n",
    "\n",
    "The `solve_subsistence_problem` function generates a solution for Stigler's Subsistence Cost Problem using the linear programming model\n",
    "$$\n",
    "    \\min_x p'x\n",
    "$$\n",
    "such that\n",
    "$$\n",
    "     Ax \\geq b\n",
    "$$\n",
    "\n",
    "**Input Parameters:**\n",
    "\n",
    "- **store**: a str with name of the store which is also the name of the individual sheet from the spreadsheet (\"Safeway\", \"Trader Joe's\", \"Amazon Fresh\", \"Berkeley Bowl\", or \"Sprout's\")\n",
    "- **FoodNutrients** : A pd.DataFrame for the corresponding store with rows corresponding to foods, columns to nutrients.\n",
    "- **Prices**: A pd.Series of prices for different foods\n",
    "- **diet_min**: A pd.Series of DRIs, with index corresponding to columns of FoodNutrients,describing minimum intakes.\n",
    "- **diet_max**: A pd.Series of DRIs, with index corresponding to columns of FoodNutrients, describing maximum intakes.\n",
    "- **max_weight**: Optional argument; maximum weight (in hectograms) allowed for diet.\n",
    "- **tol**: Solution values smaller than this in absolute value treated as zeros; default = 1e-6."
   ]
  },
  {
   "cell_type": "code",
   "execution_count": 20,
   "id": "79c1a271",
   "metadata": {},
   "outputs": [],
   "source": [
    "def solve_subsistence_problem(store, FoodNutrients, Prices, diet_min, diet_max, max_weight=None,tol=1e-6):\n",
    "    p = Prices.apply(lambda x:x.magnitude).dropna()\n",
    "\n",
    "    # Compile list that we have both prices and nutritional info for; drop if either missing\n",
    "    use = p.index.intersection(FoodNutrients.columns)\n",
    "    p = p[use]\n",
    "\n",
    "    # Drop nutritional information for foods we don't know the price of,\n",
    "    # and replace missing nutrients with zeros.\n",
    "    Aall = FoodNutrients[p.index].fillna(0)\n",
    "\n",
    "    # Drop rows of A that we don't have constraints for.\n",
    "    Amin = Aall.loc[Aall.index.intersection(diet_min.index)]\n",
    "\n",
    "    Amax = Aall.loc[Aall.index.intersection(diet_max.index)]\n",
    "\n",
    "    # Minimum requirements involve multiplying constraint by -1 to make <=.\n",
    "    A = pd.concat([Amin,\n",
    "                   -Amax])\n",
    "\n",
    "    b = pd.concat([diet_min,\n",
    "                   -diet_max]) # Note sign change for max constraints\n",
    "\n",
    "    # Make sure order of p, A, b are consistent\n",
    "    A = A.reindex(p.index,axis=1)\n",
    "    A = A.reindex(b.index,axis=0)\n",
    "\n",
    "    if max_weight is not None:\n",
    "        # Add up weights of foods consumed\n",
    "        A.loc['Hectograms'] = -1\n",
    "        b.loc['Hectograms'] = -max_weight\n",
    "        \n",
    "    # Now solve problem!  (Note that the linear program solver we'll use assumes\n",
    "    # \"less-than-or-equal\" constraints.  We can switch back and forth by\n",
    "    # multiplying $A$ and $b$ by $-1$.)\n",
    "\n",
    "    result = lp(p, -A, -b, method='interior-point')\n",
    "\n",
    "    result.A = A\n",
    "    result.b = b\n",
    "    \n",
    "    if result.success:\n",
    "        result.diet = pd.Series(result.x,index=p.index)\n",
    "    else: # No feasible solution?\n",
    "        warnings.warn(result.message)\n",
    "        result.diet = pd.Series(result.x,index=p.index)*np.nan  \n",
    "\n",
    "    return result"
   ]
  },
  {
   "cell_type": "code",
   "execution_count": 21,
   "id": "436ac138",
   "metadata": {},
   "outputs": [],
   "source": [
    "#some helper functions to shorten the code below \n",
    "def match_n(store):\n",
    "    if store == \"Safeway\":\n",
    "        FoodNutrients = safeway_n\n",
    "    elif store == \"Trader Joe's\":\n",
    "        FoodNutrients = TJ_n\n",
    "    elif store == \"Amazon Fresh\":\n",
    "        FoodNutrients = AF_n\n",
    "    elif store == \"Berkeley Bowl\":\n",
    "        FoodNutrients = BB_n\n",
    "    elif store == \"Sprout's\":\n",
    "        FoodNutrients = sprouts_n\n",
    "    return FoodNutrients\n",
    "def match_p(store):\n",
    "    if store == \"Safeway\":\n",
    "        Prices = safeway_p\n",
    "    elif store == \"Trader Joe's\":\n",
    "        Prices = TJ_p\n",
    "    elif store == \"Amazon Fresh\":\n",
    "        Prices = AF_p\n",
    "    elif store == \"Berkeley Bowl\":\n",
    "        Prices = BB_p\n",
    "    elif store == \"Sprout's\":\n",
    "        Prices = sprouts_p\n",
    "    return Prices"
   ]
  },
  {
   "cell_type": "markdown",
   "id": "0c1be5c4",
   "metadata": {},
   "source": [
    "The `cheapest_diet` generate a solution for a specfic store.\n",
    "\n",
    "**Input Parameters:**\n",
    "\n",
    "- **store**: a str with name of the store which is also the name of the individual sheet from the spreadsheet (\"Safeway\", \"Trader Joe's\", \"Amazon Fresh\", \"Berkeley Bowl\", or \"Sprout's\")\n",
    "- **sex**: a str (\"M\" or \"F\"）\n",
    "- **age**: a str (\"4-8\", \"9-13\", \"14-18\",\"19-30\",\"31-50\", or \"51+\")"
   ]
  },
  {
   "cell_type": "code",
   "execution_count": 22,
   "id": "6ad697ce",
   "metadata": {},
   "outputs": [],
   "source": [
    "def cheapest_diet(store, sex, age):\n",
    "    \n",
    "    group = f'{sex } {age}'\n",
    "    tol=1e-6\n",
    "    \n",
    "    FoodNutrients = match_n(store)\n",
    "    Prices = match_p(store)\n",
    "    \n",
    "    result = solve_subsistence_problem(store, FoodNutrients, Prices, diet_min[group], diet_max[group], tol=1e-6)\n",
    "    \n",
    "    group = \"Vegetarian \" + group\n",
    "\n",
    "    print(\"Cost of diet from %a for %s is $%4.2f per day.\\n\" % (store, group,result.fun))\n",
    "\n",
    "    # Put back into nice series\n",
    "    diet = result.diet\n",
    "\n",
    "    print(\"\\nDiet (in 100s of grams or milliliters):\")\n",
    "    print(diet[diet >= tol])  # Drop items with quantities less than precision of calculation.\n",
    "    print()\n",
    "\n",
    "    tab = pd.DataFrame({\"Outcome\":np.abs(result.A).dot(diet),\"Recommendation\":np.abs(result.b)})\n",
    "    print(\"\\nWith the following nutritional outcomes of interest:\")\n",
    "    print(tab)\n",
    "    print()\n",
    "\n",
    "    print(\"\\nConstraining nutrients are:\")\n",
    "    excess = tab.diff(axis=1).iloc[:,1]\n",
    "    print(excess.loc[np.abs(excess) < tol*100].index.tolist())"
   ]
  },
  {
   "cell_type": "code",
   "execution_count": 23,
   "id": "549bcd6d",
   "metadata": {},
   "outputs": [
    {
     "name": "stdout",
     "output_type": "stream",
     "text": [
      "Cost of diet from 'Amazon Fresh' for Vegetarian M 19-30 is $3.70 per day.\n",
      "\n",
      "\n",
      "Diet (in 100s of grams or milliliters):\n",
      "Almond Milk (Unsweetened)    3.125955\n",
      "Black Beans (Canned)         5.273971\n",
      "Carrots                      0.389967\n",
      "Corn (canned)                7.806742\n",
      "Kale                         0.237089\n",
      "Potatoes (Russet)            2.500766\n",
      "Whole Milk                   4.444444\n",
      "dtype: float64\n",
      "\n",
      "\n",
      "With the following nutritional outcomes of interest:\n",
      "                                    Outcome  Recommendation\n",
      "Nutrition                                                  \n",
      "Energy                          4922.200477          2400.0\n",
      "Protein                           97.000213            56.0\n",
      "Fiber, total dietary              79.754872            33.6\n",
      "Folate, DFE                      473.522411           400.0\n",
      "Calcium, Ca                     1537.948918          1000.0\n",
      "Carbohydrate, by difference      403.901699           130.0\n",
      "Iron, Fe                          20.956168             8.0\n",
      "Magnesium, Mg                    588.745946           400.0\n",
      "Niacin                            24.779129            16.0\n",
      "Phosphorus, P                   2186.444507           700.0\n",
      "Potassium, K                    6674.992756          4700.0\n",
      "Riboflavin                         2.083363             1.3\n",
      "Thiamin                            1.983076             1.2\n",
      "Vitamin A, RAE                   900.000231           900.0\n",
      "Vitamin B-12                       2.400000             2.4\n",
      "Vitamin B-6                        2.040287             1.3\n",
      "Vitamin C, total ascorbic acid    90.000001            90.0\n",
      "Vitamin E (alpha-tocopherol)      15.000000            15.0\n",
      "Vitamin K (phylloquinone)        120.000001           120.0\n",
      "Zinc, Zn                          11.000000            11.0\n",
      "Sodium, Na                      2299.999887          2300.0\n",
      "\n",
      "\n",
      "Constraining nutrients are:\n",
      "['Vitamin B-12', 'Vitamin C, total ascorbic acid', 'Vitamin E (alpha-tocopherol)', 'Vitamin K (phylloquinone)', 'Zinc, Zn']\n"
     ]
    }
   ],
   "source": [
    "# Sample solution from Safeway for a male ages 19-30\n",
    "cheapest_diet(\"Amazon Fresh\", \"M\", \"19-30\")"
   ]
  },
  {
   "cell_type": "code",
   "execution_count": 24,
   "id": "18538974",
   "metadata": {},
   "outputs": [
    {
     "data": {
      "application/vnd.jupyter.widget-view+json": {
       "model_id": "0474a4bb6c644ff390a108446c48e75b",
       "version_major": 2,
       "version_minor": 0
      },
      "text/plain": [
       "interactive(children=(Dropdown(description='store', options=('Safeway', \"Trader Joe's\", 'Amazon Fresh', 'Berke…"
      ]
     },
     "metadata": {},
     "output_type": "display_data"
    },
    {
     "data": {
      "text/plain": [
       "<function __main__.cheapest_diet(store, sex, age)>"
      ]
     },
     "execution_count": 24,
     "metadata": {},
     "output_type": "execute_result"
    }
   ],
   "source": [
    "#Interactive solutio with respect to different store, sex and age\n",
    "interact(cheapest_diet,\n",
    "         store = [\"Safeway\", \"Trader Joe's\", \"Amazon Fresh\", \"Berkeley Bowl\", \"Sprout's\"],\n",
    "         sex = [\"M\",\"F\"],\n",
    "         age = [\"4-8\", \"9-13\", \"14-18\",\"19-30\",\"31-50\",\"51+\"])"
   ]
  },
  {
   "cell_type": "markdown",
   "id": "cf523f8c",
   "metadata": {},
   "source": [
    "### Final Result: \n",
    "**Rank of stores according to prices (ascending order):**\n",
    "\n",
    "1. Amazon Fresh \n",
    "2. Safeway \n",
    "3. Sprout's \n",
    "4. Berkeley Bowl\n",
    "5. Trader Joe's\n",
    "\n",
    "**Amazon Fresh offers the cheapest solutions across all sex and age group**\n",
    "\n",
    "- 3.7 dollar per day for a male aged 19-30\n",
    "- 3 dollar per day for a female aged 19-30\n",
    "- **However, it is critical to address that Amazon Fresh requires a delivery fee, ranging from \\\\$2.99  to \\\\$5; the order need to be up to \\\\$35 for free delivery. Tips might also apply**\n"
   ]
  },
  {
   "cell_type": "markdown",
   "id": "cd46d351",
   "metadata": {},
   "source": [
    "## [B] Is our solution edible? <a name=\"edi\"></a>\n",
    "\n",
    "Please see the details in our presentation https://docs.google.com/presentation/d/1VwtujQ4N7RZvpJKWw7H8cye_ybU2z-vA1cK32k3Li3A/edit?usp=sharing "
   ]
  },
  {
   "cell_type": "markdown",
   "id": "dc5ce7da",
   "metadata": {},
   "source": [
    "## [B] Meal Reviews <a name=\"rev\"></a>\n",
    "\n",
    "Please see the details in our presentation https://docs.google.com/presentation/d/1VwtujQ4N7RZvpJKWw7H8cye_ybU2z-vA1cK32k3Li3A/edit?usp=sharing "
   ]
  },
  {
   "cell_type": "markdown",
   "id": "45709b17",
   "metadata": {},
   "source": [
    "## [C] Sensitivity of Solution <a name=\"sen\"></a>"
   ]
  },
  {
   "cell_type": "markdown",
   "id": "255c95fc",
   "metadata": {},
   "source": [
    "### 1. Effect of Food Prices on Total Diet Cost \n",
    "The `price_cost` function create a graph demonstrating **the relationship between the changes in prices for each food and the total diet cost** for the specified store and sex-age group\n",
    "\n",
    "**Input Parameters:**\n",
    "\n",
    "- **store**: a str with name of the store which is also the name of the individual sheet from the spreadsheet (\"Safeway\", \"Trader Joe's\", \"Amazon Fresh\", \"Berkeley Bowl\", or \"Sprout's\")\n",
    "- **sex**: a str (\"M\" or \"F\"）\n",
    "- **age**: a str (\"4-8\", \"9-13\", \"14-18\",\"19-30\",\"31-50\", or \"51+\")"
   ]
  },
  {
   "cell_type": "code",
   "execution_count": 25,
   "id": "fc2f6a6d",
   "metadata": {},
   "outputs": [],
   "source": [
    "def price_cost(store, sex, age):\n",
    "    group = f'{sex } {age}'\n",
    "    FoodNutrients = match_n(store)\n",
    "    Prices = match_p(store)\n",
    "    tol=1e-6\n",
    "    \n",
    "    scale = [.5,.6,.7,.8,.9,1.,1.1,1.2,1.3,1.4,1.5]\n",
    "    cost0 = solve_subsistence_problem(store, FoodNutrients, Prices, diet_min[group], diet_max[group], tol=1e-6).fun\n",
    "    \n",
    "   \n",
    "    Price_response={}\n",
    "    for s in scale:\n",
    "        cost = {}\n",
    "        for i,p in enumerate(Prices):\n",
    "            my_p = Prices.copy()\n",
    "            my_p[i] = p*s\n",
    "            result = solve_subsistence_problem(store, FoodNutrients,my_p,diet_min[group],diet_max[group],tol=tol)\n",
    "            cost[Prices.index[i]] = np.log(result.fun/cost0)\n",
    "        Price_response[np.log(s)] = cost\n",
    "\n",
    "    Price_response = pd.DataFrame(Price_response).T\n",
    "    return Price_response.iplot(xTitle='change in log price', \n",
    "                                yTitle='change in log cost', \n",
    "                                title=f\"Change in Food Price vs Change in Diet Cost ({store}, {group})\")\n"
   ]
  },
  {
   "cell_type": "code",
   "execution_count": 26,
   "id": "89db5a5b",
   "metadata": {},
   "outputs": [
    {
     "data": {
      "application/vnd.jupyter.widget-view+json": {
       "model_id": "1a25ee9a170347749f1c44ab6ac0bf95",
       "version_major": 2,
       "version_minor": 0
      },
      "text/plain": [
       "interactive(children=(Dropdown(description='store', options=('Safeway', \"Trader Joe's\", 'Amazon Fresh', 'Berke…"
      ]
     },
     "metadata": {},
     "output_type": "display_data"
    },
    {
     "data": {
      "text/plain": [
       "<function __main__.price_cost(store, sex, age)>"
      ]
     },
     "execution_count": 26,
     "metadata": {},
     "output_type": "execute_result"
    }
   ],
   "source": [
    "#interactive plot showing the effect of prices on total cost from different stores for different sex-age groups\n",
    "#the plots take a bit of time to load\n",
    "interact(price_cost,\n",
    "         store = [\"Safeway\", \"Trader Joe's\", \"Amazon Fresh\", \"Berkeley Bowl\", \"Sprout's\"],\n",
    "         sex = [\"M\",\"F\"],\n",
    "         age = [\"4-8\", \"9-13\", \"14-18\",\"19-30\",\"31-50\",\"51+\"])"
   ]
  },
  {
   "cell_type": "markdown",
   "id": "ce38754f",
   "metadata": {},
   "source": [
    "### 2. Effect of Price of One Good on Diet Composition \n",
    "The `price_quantity` function create a graph demonstrating **the relationship between the changes in price of 1 particular good and quantity of other goods consumed** for the specified store and sex-age group.\n",
    "\n",
    "**Input Parameters:**\n",
    "\n",
    "- **store**: a str with name of the store which is also the name of the individual sheet from the spreadsheet (\"Safeway\", \"Trader Joe's\", \"Amazon Fresh\", \"Berkeley Bowl\", or \"Sprout's\")\n",
    "- **sex**: a str (\"M\" or \"F\"）\n",
    "- **age**: a str (\"4-8\", \"9-13\", \"14-18\",\"19-30\",\"31-50\", or \"51+\")"
   ]
  },
  {
   "cell_type": "code",
   "execution_count": 27,
   "id": "d739bf2f",
   "metadata": {},
   "outputs": [],
   "source": [
    "def price_quantity(store, sex, age, good):\n",
    "    group = f'{sex } {age}'\n",
    "    FoodNutrients = match_n(store)\n",
    "    Prices = match_p(store)\n",
    "    tol=1e-6\n",
    "    ReferenceGood = good\n",
    "    \n",
    "    scale = [0.5,0.75,0.9,1.,1.1,1.2,1.3,1.4,1.5,2,4]\n",
    "    cost0 = solve_subsistence_problem(store, FoodNutrients, Prices, diet_min[group], diet_max[group], tol=1e-6).fun\n",
    "    \n",
    "    my_p = Prices.copy()\n",
    "\n",
    "    diet = {}\n",
    "    for s in scale:\n",
    "        my_p[ReferenceGood] = Prices[ReferenceGood]*s\n",
    "        result = solve_subsistence_problem(store, FoodNutrients, my_p, diet_min[group], diet_max[group], tol=tol)\n",
    "        diet[my_p[ReferenceGood]] = result.diet\n",
    "\n",
    "    Diet_response = pd.DataFrame(diet).T\n",
    "    Diet_response.index.name = '%s Price' % ReferenceGood\n",
    "\n",
    "    Diet_response.reset_index(inplace=True)\n",
    "\n",
    "    # Get rid of units for index (cufflinks chokes)\n",
    "    Diet_response['%s Price' % ReferenceGood] = Diet_response['%s Price' % ReferenceGood].apply(lambda x: x.magnitude)\n",
    "\n",
    "    Diet_response = Diet_response.set_index('%s Price' % ReferenceGood)\n",
    "\n",
    "    # Just look at goods consumed in quantities greater than error tolerance\n",
    "    return Diet_response.loc[:,(Diet_response>tol).sum()>0].iplot(xTitle='%s Price' % ReferenceGood,\n",
    "                                                                  yTitle='Quantity (Hectograms)',\n",
    "                                                                 title=f\"Change in {good} Price vs Change in Diet Composition ({store}, {sex} {age})\")\n"
   ]
  },
  {
   "cell_type": "markdown",
   "id": "51030353",
   "metadata": {},
   "source": [
    "**We chose \"Whole Milk\" as our reference good for the examples below, since we found it to be a recurring good across all generated recipes** "
   ]
  },
  {
   "cell_type": "code",
   "execution_count": 28,
   "id": "27fa4d29",
   "metadata": {},
   "outputs": [
    {
     "name": "stderr",
     "output_type": "stream",
     "text": [
      "/opt/conda/lib/python3.9/site-packages/pandas/core/dtypes/cast.py:1990: UnitStrippedWarning:\n",
      "\n",
      "The unit of the quantity is stripped when downcasting to ndarray.\n",
      "\n"
     ]
    },
    {
     "data": {
      "application/vnd.plotly.v1+json": {
       "config": {
        "linkText": "Export to plot.ly",
        "plotlyServerURL": "https://plot.ly",
        "showLink": true
       },
       "data": [
        {
         "line": {
          "color": "rgba(255, 153, 51, 1.0)",
          "dash": "solid",
          "shape": "linear",
          "width": 1.3
         },
         "mode": "lines",
         "name": "Almond Milk",
         "text": "",
         "type": "scatter",
         "x": [
          0.05911144404832029,
          0.08866716607248043,
          0.10640059928697652,
          0.11822288809664058,
          0.13004517690630465,
          0.1418674657159687,
          0.15368975452563277,
          0.16551204333529682,
          0.17733433214496086,
          0.23644577619328117,
          0.47289155238656233
         ],
         "y": [
          1.3934857456885335,
          1.294435936480396,
          1.294435648485109,
          0.8647421575847979,
          0.8647421575128112,
          0.8647429034757124,
          0.8647421819667439,
          0.8647421570889556,
          0.8647421522995522,
          0.7306223226950698,
          1.4775351210443896e-09
         ]
        },
        {
         "line": {
          "color": "rgba(55, 128, 191, 1.0)",
          "dash": "solid",
          "shape": "linear",
          "width": 1.3
         },
         "mode": "lines",
         "name": "Avocado",
         "text": "",
         "type": "scatter",
         "x": [
          0.05911144404832029,
          0.08866716607248043,
          0.10640059928697652,
          0.11822288809664058,
          0.13004517690630465,
          0.1418674657159687,
          0.15368975452563277,
          0.16551204333529682,
          0.17733433214496086,
          0.23644577619328117,
          0.47289155238656233
         ],
         "y": [
          4.897313814348185,
          4.436741091457059,
          4.436739170498159,
          2.754537265359171,
          2.7545372647751516,
          2.7545361880113646,
          2.7545338155833976,
          2.754537258730151,
          2.7545372443774734,
          2.2427559363926477,
          4.396775262903748
         ]
        },
        {
         "line": {
          "color": "rgba(50, 171, 96, 1.0)",
          "dash": "solid",
          "shape": "linear",
          "width": 1.3
         },
         "mode": "lines",
         "name": "Bananas",
         "text": "",
         "type": "scatter",
         "x": [
          0.05911144404832029,
          0.08866716607248043,
          0.10640059928697652,
          0.11822288809664058,
          0.13004517690630465,
          0.1418674657159687,
          0.15368975452563277,
          0.16551204333529682,
          0.17733433214496086,
          0.23644577619328117,
          0.47289155238656233
         ],
         "y": [
          1.0501999784479773e-06,
          8.632736844598295e-09,
          4.495824949483773e-07,
          1.7122338871889203e-09,
          4.4825927731130215e-09,
          5.895046106076894e-05,
          6.148996748571214e-07,
          1.6003594628036886e-10,
          1.2270427130687292e-09,
          1.1153149620639557e-07,
          1.0611279081454146e-09
         ]
        },
        {
         "line": {
          "color": "rgba(128, 0, 128, 1.0)",
          "dash": "solid",
          "shape": "linear",
          "width": 1.3
         },
         "mode": "lines",
         "name": "Black Beans",
         "text": "",
         "type": "scatter",
         "x": [
          0.05911144404832029,
          0.08866716607248043,
          0.10640059928697652,
          0.11822288809664058,
          0.13004517690630465,
          0.1418674657159687,
          0.15368975452563277,
          0.16551204333529682,
          0.17733433214496086,
          0.23644577619328117,
          0.47289155238656233
         ],
         "y": [
          0.11915474227687076,
          0.4958497711052922,
          0.4958495925722899,
          0.7358642374990609,
          0.735864236827733,
          0.7358527585605197,
          0.7358625240398646,
          0.7358642406483413,
          0.7358642428206046,
          0.7660951483004336,
          0.3505844879916473
         ]
        },
        {
         "line": {
          "color": "rgba(219, 64, 82, 1.0)",
          "dash": "solid",
          "shape": "linear",
          "width": 1.3
         },
         "mode": "lines",
         "name": "Carrots",
         "text": "",
         "type": "scatter",
         "x": [
          0.05911144404832029,
          0.08866716607248043,
          0.10640059928697652,
          0.11822288809664058,
          0.13004517690630465,
          0.1418674657159687,
          0.15368975452563277,
          0.16551204333529682,
          0.17733433214496086,
          0.23644577619328117,
          0.47289155238656233
         ],
         "y": [
          0.10126801841750445,
          2.0699755576141317,
          2.0699834603442815,
          9.264091544649917,
          9.264091547130823,
          9.26409600083183,
          9.264106966205837,
          9.264091572229535,
          9.264091634449597,
          11.452955120075096,
          26.516006696759113
         ]
        },
        {
         "line": {
          "color": "rgba(0, 128, 128, 1.0)",
          "dash": "solid",
          "shape": "linear",
          "width": 1.3
         },
         "mode": "lines",
         "name": "Corn",
         "text": "",
         "type": "scatter",
         "x": [
          0.05911144404832029,
          0.08866716607248043,
          0.10640059928697652,
          0.11822288809664058,
          0.13004517690630465,
          0.1418674657159687,
          0.15368975452563277,
          0.16551204333529682,
          0.17733433214496086,
          0.23644577619328117,
          0.47289155238656233
         ],
         "y": [
          4.4014175730958746e-07,
          6.956366596832228e-09,
          2.1269772729148474e-07,
          0.48826569293857913,
          0.48826569172732676,
          0.48823918364708657,
          0.48826896247979107,
          0.48826569599920694,
          0.48826570005487074,
          0.6157208924148947,
          0.46199523781036134
         ]
        },
        {
         "line": {
          "color": "rgba(255, 255, 51, 1.0)",
          "dash": "solid",
          "shape": "linear",
          "width": 1.3
         },
         "mode": "lines",
         "name": "Kale",
         "text": "",
         "type": "scatter",
         "x": [
          0.05911144404832029,
          0.08866716607248043,
          0.10640059928697652,
          0.11822288809664058,
          0.13004517690630465,
          0.1418674657159687,
          0.15368975452563277,
          0.16551204333529682,
          0.17733433214496086,
          0.23644577619328117,
          0.47289155238656233
         ],
         "y": [
          0.011615720629423924,
          0.27370780245933485,
          0.27370742115482194,
          3.369711747976957e-10,
          1.921961748849964e-10,
          4.56748096086482e-07,
          3.890289090118086e-07,
          7.755390822465166e-09,
          9.132279366502399e-10,
          4.635983761815709e-09,
          1.5213116867450178e-10
         ]
        },
        {
         "line": {
          "color": "rgba(128, 128, 0, 1.0)",
          "dash": "solid",
          "shape": "linear",
          "width": 1.3
         },
         "mode": "lines",
         "name": "Oats",
         "text": "",
         "type": "scatter",
         "x": [
          0.05911144404832029,
          0.08866716607248043,
          0.10640059928697652,
          0.11822288809664058,
          0.13004517690630465,
          0.1418674657159687,
          0.15368975452563277,
          0.16551204333529682,
          0.17733433214496086,
          0.23644577619328117,
          0.47289155238656233
         ],
         "y": [
          8.702848008264383e-07,
          6.222035218471168e-09,
          5.0033891732005e-08,
          6.558002327489202e-11,
          1.677444174067079e-10,
          1.2395614101873518e-06,
          4.6562950399313895e-07,
          2.243705436619751e-09,
          4.824177390926727e-10,
          1.5738719118291237e-08,
          1.7348189370341034e-09
         ]
        },
        {
         "line": {
          "color": "rgba(251, 128, 114, 1.0)",
          "dash": "solid",
          "shape": "linear",
          "width": 1.3
         },
         "mode": "lines",
         "name": "Oranges",
         "text": "",
         "type": "scatter",
         "x": [
          0.05911144404832029,
          0.08866716607248043,
          0.10640059928697652,
          0.11822288809664058,
          0.13004517690630465,
          0.1418674657159687,
          0.15368975452563277,
          0.16551204333529682,
          0.17733433214496086,
          0.23644577619328117,
          0.47289155238656233
         ],
         "y": [
          9.442772767459541e-07,
          2.1675504802373707e-09,
          5.534210949862014e-08,
          6.336558640779249e-11,
          2.527271203103601e-10,
          2.2322416844921617e-06,
          7.191997438498218e-07,
          1.2450218056504332e-09,
          3.358670362824492e-10,
          4.402717598615723e-09,
          4.2954507150349386e-10
         ]
        },
        {
         "line": {
          "color": "rgba(128, 177, 211, 1.0)",
          "dash": "solid",
          "shape": "linear",
          "width": 1.3
         },
         "mode": "lines",
         "name": "Potatoes",
         "text": "",
         "type": "scatter",
         "x": [
          0.05911144404832029,
          0.08866716607248043,
          0.10640059928697652,
          0.11822288809664058,
          0.13004517690630465,
          0.1418674657159687,
          0.15368975452563277,
          0.16551204333529682,
          0.17733433214496086,
          0.23644577619328117,
          0.47289155238656233
         ],
         "y": [
          2.143462422655812,
          5.661690453578981e-07,
          1.232389753884471e-06,
          0.4283784154743445,
          0.42837841322875336,
          0.42832146911416946,
          0.4283703804665028,
          0.42837835795177415,
          0.42837839563515256,
          2.4943738058090294e-07,
          1.9815645594657397e-09
         ]
        },
        {
         "line": {
          "color": "rgba(128, 177, 211, 0.8999999999999999)",
          "dash": "solid",
          "shape": "linear",
          "width": 1.3
         },
         "mode": "lines",
         "name": "White Bread",
         "text": "",
         "type": "scatter",
         "x": [
          0.05911144404832029,
          0.08866716607248043,
          0.10640059928697652,
          0.11822288809664058,
          0.13004517690630465,
          0.1418674657159687,
          0.15368975452563277,
          0.16551204333529682,
          0.17733433214496086,
          0.23644577619328117,
          0.47289155238656233
         ],
         "y": [
          1.3807375593961573e-06,
          8.224682866443318e-09,
          4.9859011589400005e-08,
          3.398826048434174e-11,
          8.697246825664271e-11,
          6.471887350694716e-07,
          1.2209702380370614e-06,
          9.616074798800118e-10,
          4.83023441841873e-10,
          7.891639718102933e-09,
          2.6579822192927494e-10
         ]
        },
        {
         "line": {
          "color": "rgba(255, 153, 51, 0.8999999999999999)",
          "dash": "solid",
          "shape": "linear",
          "width": 1.3
         },
         "mode": "lines",
         "name": "White Rice",
         "text": "",
         "type": "scatter",
         "x": [
          0.05911144404832029,
          0.08866716607248043,
          0.10640059928697652,
          0.11822288809664058,
          0.13004517690630465,
          0.1418674657159687,
          0.15368975452563277,
          0.16551204333529682,
          0.17733433214496086,
          0.23644577619328117,
          0.47289155238656233
         ],
         "y": [
          4.4476368230980567e-07,
          2.845177703472699e-09,
          5.73388777378615e-08,
          5.0977467693149436e-11,
          1.3185126175468693e-10,
          1.0161153592974392e-06,
          7.308415579325517e-07,
          1.7006306060482461e-09,
          3.5146493291107433e-10,
          1.1819155398950127e-08,
          1.5600096683060144e-09
         ]
        },
        {
         "line": {
          "color": "rgba(55, 128, 191, 0.8999999999999999)",
          "dash": "solid",
          "shape": "linear",
          "width": 1.3
         },
         "mode": "lines",
         "name": "Whole Milk",
         "text": "",
         "type": "scatter",
         "x": [
          0.05911144404832029,
          0.08866716607248043,
          0.10640059928697652,
          0.11822288809664058,
          0.13004517690630465,
          0.1418674657159687,
          0.15368975452563277,
          0.16551204333529682,
          0.17733433214496086,
          0.23644577619328117,
          0.47289155238656233
         ],
         "y": [
          20.66626779088635,
          19.095701073994235,
          19.09569873067533,
          16.98007231757523,
          16.98007231708846,
          16.980072830230814,
          16.98006842352199,
          16.98007231093996,
          16.980072299020367,
          16.51729177905648,
          4.4444444447236435
         ]
        },
        {
         "line": {
          "color": "rgba(50, 171, 96, 0.8999999999999999)",
          "dash": "solid",
          "shape": "linear",
          "width": 1.3
         },
         "mode": "lines",
         "name": "spaghetti",
         "text": "",
         "type": "scatter",
         "x": [
          0.05911144404832029,
          0.08866716607248043,
          0.10640059928697652,
          0.11822288809664058,
          0.13004517690630465,
          0.1418674657159687,
          0.15368975452563277,
          0.16551204333529682,
          0.17733433214496086,
          0.23644577619328117,
          0.47289155238656233
         ],
         "y": [
          0.9236392990125377,
          0.6993685905423825,
          0.6993678950685562,
          0.047898650014701435,
          0.047898649969534315,
          0.04790066302638388,
          0.0478977236777109,
          0.04789864693041319,
          0.047898640845652644,
          7.5563024580515e-09,
          2.4141601911973676e-09
         ]
        }
       ],
       "layout": {
        "legend": {
         "bgcolor": "#F5F6F9",
         "font": {
          "color": "#4D5663"
         }
        },
        "paper_bgcolor": "#F5F6F9",
        "plot_bgcolor": "#F5F6F9",
        "template": {
         "data": {
          "bar": [
           {
            "error_x": {
             "color": "#2a3f5f"
            },
            "error_y": {
             "color": "#2a3f5f"
            },
            "marker": {
             "line": {
              "color": "#E5ECF6",
              "width": 0.5
             },
             "pattern": {
              "fillmode": "overlay",
              "size": 10,
              "solidity": 0.2
             }
            },
            "type": "bar"
           }
          ],
          "barpolar": [
           {
            "marker": {
             "line": {
              "color": "#E5ECF6",
              "width": 0.5
             },
             "pattern": {
              "fillmode": "overlay",
              "size": 10,
              "solidity": 0.2
             }
            },
            "type": "barpolar"
           }
          ],
          "carpet": [
           {
            "aaxis": {
             "endlinecolor": "#2a3f5f",
             "gridcolor": "white",
             "linecolor": "white",
             "minorgridcolor": "white",
             "startlinecolor": "#2a3f5f"
            },
            "baxis": {
             "endlinecolor": "#2a3f5f",
             "gridcolor": "white",
             "linecolor": "white",
             "minorgridcolor": "white",
             "startlinecolor": "#2a3f5f"
            },
            "type": "carpet"
           }
          ],
          "choropleth": [
           {
            "colorbar": {
             "outlinewidth": 0,
             "ticks": ""
            },
            "type": "choropleth"
           }
          ],
          "contour": [
           {
            "colorbar": {
             "outlinewidth": 0,
             "ticks": ""
            },
            "colorscale": [
             [
              0,
              "#0d0887"
             ],
             [
              0.1111111111111111,
              "#46039f"
             ],
             [
              0.2222222222222222,
              "#7201a8"
             ],
             [
              0.3333333333333333,
              "#9c179e"
             ],
             [
              0.4444444444444444,
              "#bd3786"
             ],
             [
              0.5555555555555556,
              "#d8576b"
             ],
             [
              0.6666666666666666,
              "#ed7953"
             ],
             [
              0.7777777777777778,
              "#fb9f3a"
             ],
             [
              0.8888888888888888,
              "#fdca26"
             ],
             [
              1,
              "#f0f921"
             ]
            ],
            "type": "contour"
           }
          ],
          "contourcarpet": [
           {
            "colorbar": {
             "outlinewidth": 0,
             "ticks": ""
            },
            "type": "contourcarpet"
           }
          ],
          "heatmap": [
           {
            "colorbar": {
             "outlinewidth": 0,
             "ticks": ""
            },
            "colorscale": [
             [
              0,
              "#0d0887"
             ],
             [
              0.1111111111111111,
              "#46039f"
             ],
             [
              0.2222222222222222,
              "#7201a8"
             ],
             [
              0.3333333333333333,
              "#9c179e"
             ],
             [
              0.4444444444444444,
              "#bd3786"
             ],
             [
              0.5555555555555556,
              "#d8576b"
             ],
             [
              0.6666666666666666,
              "#ed7953"
             ],
             [
              0.7777777777777778,
              "#fb9f3a"
             ],
             [
              0.8888888888888888,
              "#fdca26"
             ],
             [
              1,
              "#f0f921"
             ]
            ],
            "type": "heatmap"
           }
          ],
          "heatmapgl": [
           {
            "colorbar": {
             "outlinewidth": 0,
             "ticks": ""
            },
            "colorscale": [
             [
              0,
              "#0d0887"
             ],
             [
              0.1111111111111111,
              "#46039f"
             ],
             [
              0.2222222222222222,
              "#7201a8"
             ],
             [
              0.3333333333333333,
              "#9c179e"
             ],
             [
              0.4444444444444444,
              "#bd3786"
             ],
             [
              0.5555555555555556,
              "#d8576b"
             ],
             [
              0.6666666666666666,
              "#ed7953"
             ],
             [
              0.7777777777777778,
              "#fb9f3a"
             ],
             [
              0.8888888888888888,
              "#fdca26"
             ],
             [
              1,
              "#f0f921"
             ]
            ],
            "type": "heatmapgl"
           }
          ],
          "histogram": [
           {
            "marker": {
             "pattern": {
              "fillmode": "overlay",
              "size": 10,
              "solidity": 0.2
             }
            },
            "type": "histogram"
           }
          ],
          "histogram2d": [
           {
            "colorbar": {
             "outlinewidth": 0,
             "ticks": ""
            },
            "colorscale": [
             [
              0,
              "#0d0887"
             ],
             [
              0.1111111111111111,
              "#46039f"
             ],
             [
              0.2222222222222222,
              "#7201a8"
             ],
             [
              0.3333333333333333,
              "#9c179e"
             ],
             [
              0.4444444444444444,
              "#bd3786"
             ],
             [
              0.5555555555555556,
              "#d8576b"
             ],
             [
              0.6666666666666666,
              "#ed7953"
             ],
             [
              0.7777777777777778,
              "#fb9f3a"
             ],
             [
              0.8888888888888888,
              "#fdca26"
             ],
             [
              1,
              "#f0f921"
             ]
            ],
            "type": "histogram2d"
           }
          ],
          "histogram2dcontour": [
           {
            "colorbar": {
             "outlinewidth": 0,
             "ticks": ""
            },
            "colorscale": [
             [
              0,
              "#0d0887"
             ],
             [
              0.1111111111111111,
              "#46039f"
             ],
             [
              0.2222222222222222,
              "#7201a8"
             ],
             [
              0.3333333333333333,
              "#9c179e"
             ],
             [
              0.4444444444444444,
              "#bd3786"
             ],
             [
              0.5555555555555556,
              "#d8576b"
             ],
             [
              0.6666666666666666,
              "#ed7953"
             ],
             [
              0.7777777777777778,
              "#fb9f3a"
             ],
             [
              0.8888888888888888,
              "#fdca26"
             ],
             [
              1,
              "#f0f921"
             ]
            ],
            "type": "histogram2dcontour"
           }
          ],
          "mesh3d": [
           {
            "colorbar": {
             "outlinewidth": 0,
             "ticks": ""
            },
            "type": "mesh3d"
           }
          ],
          "parcoords": [
           {
            "line": {
             "colorbar": {
              "outlinewidth": 0,
              "ticks": ""
             }
            },
            "type": "parcoords"
           }
          ],
          "pie": [
           {
            "automargin": true,
            "type": "pie"
           }
          ],
          "scatter": [
           {
            "marker": {
             "colorbar": {
              "outlinewidth": 0,
              "ticks": ""
             }
            },
            "type": "scatter"
           }
          ],
          "scatter3d": [
           {
            "line": {
             "colorbar": {
              "outlinewidth": 0,
              "ticks": ""
             }
            },
            "marker": {
             "colorbar": {
              "outlinewidth": 0,
              "ticks": ""
             }
            },
            "type": "scatter3d"
           }
          ],
          "scattercarpet": [
           {
            "marker": {
             "colorbar": {
              "outlinewidth": 0,
              "ticks": ""
             }
            },
            "type": "scattercarpet"
           }
          ],
          "scattergeo": [
           {
            "marker": {
             "colorbar": {
              "outlinewidth": 0,
              "ticks": ""
             }
            },
            "type": "scattergeo"
           }
          ],
          "scattergl": [
           {
            "marker": {
             "colorbar": {
              "outlinewidth": 0,
              "ticks": ""
             }
            },
            "type": "scattergl"
           }
          ],
          "scattermapbox": [
           {
            "marker": {
             "colorbar": {
              "outlinewidth": 0,
              "ticks": ""
             }
            },
            "type": "scattermapbox"
           }
          ],
          "scatterpolar": [
           {
            "marker": {
             "colorbar": {
              "outlinewidth": 0,
              "ticks": ""
             }
            },
            "type": "scatterpolar"
           }
          ],
          "scatterpolargl": [
           {
            "marker": {
             "colorbar": {
              "outlinewidth": 0,
              "ticks": ""
             }
            },
            "type": "scatterpolargl"
           }
          ],
          "scatterternary": [
           {
            "marker": {
             "colorbar": {
              "outlinewidth": 0,
              "ticks": ""
             }
            },
            "type": "scatterternary"
           }
          ],
          "surface": [
           {
            "colorbar": {
             "outlinewidth": 0,
             "ticks": ""
            },
            "colorscale": [
             [
              0,
              "#0d0887"
             ],
             [
              0.1111111111111111,
              "#46039f"
             ],
             [
              0.2222222222222222,
              "#7201a8"
             ],
             [
              0.3333333333333333,
              "#9c179e"
             ],
             [
              0.4444444444444444,
              "#bd3786"
             ],
             [
              0.5555555555555556,
              "#d8576b"
             ],
             [
              0.6666666666666666,
              "#ed7953"
             ],
             [
              0.7777777777777778,
              "#fb9f3a"
             ],
             [
              0.8888888888888888,
              "#fdca26"
             ],
             [
              1,
              "#f0f921"
             ]
            ],
            "type": "surface"
           }
          ],
          "table": [
           {
            "cells": {
             "fill": {
              "color": "#EBF0F8"
             },
             "line": {
              "color": "white"
             }
            },
            "header": {
             "fill": {
              "color": "#C8D4E3"
             },
             "line": {
              "color": "white"
             }
            },
            "type": "table"
           }
          ]
         },
         "layout": {
          "annotationdefaults": {
           "arrowcolor": "#2a3f5f",
           "arrowhead": 0,
           "arrowwidth": 1
          },
          "autotypenumbers": "strict",
          "coloraxis": {
           "colorbar": {
            "outlinewidth": 0,
            "ticks": ""
           }
          },
          "colorscale": {
           "diverging": [
            [
             0,
             "#8e0152"
            ],
            [
             0.1,
             "#c51b7d"
            ],
            [
             0.2,
             "#de77ae"
            ],
            [
             0.3,
             "#f1b6da"
            ],
            [
             0.4,
             "#fde0ef"
            ],
            [
             0.5,
             "#f7f7f7"
            ],
            [
             0.6,
             "#e6f5d0"
            ],
            [
             0.7,
             "#b8e186"
            ],
            [
             0.8,
             "#7fbc41"
            ],
            [
             0.9,
             "#4d9221"
            ],
            [
             1,
             "#276419"
            ]
           ],
           "sequential": [
            [
             0,
             "#0d0887"
            ],
            [
             0.1111111111111111,
             "#46039f"
            ],
            [
             0.2222222222222222,
             "#7201a8"
            ],
            [
             0.3333333333333333,
             "#9c179e"
            ],
            [
             0.4444444444444444,
             "#bd3786"
            ],
            [
             0.5555555555555556,
             "#d8576b"
            ],
            [
             0.6666666666666666,
             "#ed7953"
            ],
            [
             0.7777777777777778,
             "#fb9f3a"
            ],
            [
             0.8888888888888888,
             "#fdca26"
            ],
            [
             1,
             "#f0f921"
            ]
           ],
           "sequentialminus": [
            [
             0,
             "#0d0887"
            ],
            [
             0.1111111111111111,
             "#46039f"
            ],
            [
             0.2222222222222222,
             "#7201a8"
            ],
            [
             0.3333333333333333,
             "#9c179e"
            ],
            [
             0.4444444444444444,
             "#bd3786"
            ],
            [
             0.5555555555555556,
             "#d8576b"
            ],
            [
             0.6666666666666666,
             "#ed7953"
            ],
            [
             0.7777777777777778,
             "#fb9f3a"
            ],
            [
             0.8888888888888888,
             "#fdca26"
            ],
            [
             1,
             "#f0f921"
            ]
           ]
          },
          "colorway": [
           "#636efa",
           "#EF553B",
           "#00cc96",
           "#ab63fa",
           "#FFA15A",
           "#19d3f3",
           "#FF6692",
           "#B6E880",
           "#FF97FF",
           "#FECB52"
          ],
          "font": {
           "color": "#2a3f5f"
          },
          "geo": {
           "bgcolor": "white",
           "lakecolor": "white",
           "landcolor": "#E5ECF6",
           "showlakes": true,
           "showland": true,
           "subunitcolor": "white"
          },
          "hoverlabel": {
           "align": "left"
          },
          "hovermode": "closest",
          "mapbox": {
           "style": "light"
          },
          "paper_bgcolor": "white",
          "plot_bgcolor": "#E5ECF6",
          "polar": {
           "angularaxis": {
            "gridcolor": "white",
            "linecolor": "white",
            "ticks": ""
           },
           "bgcolor": "#E5ECF6",
           "radialaxis": {
            "gridcolor": "white",
            "linecolor": "white",
            "ticks": ""
           }
          },
          "scene": {
           "xaxis": {
            "backgroundcolor": "#E5ECF6",
            "gridcolor": "white",
            "gridwidth": 2,
            "linecolor": "white",
            "showbackground": true,
            "ticks": "",
            "zerolinecolor": "white"
           },
           "yaxis": {
            "backgroundcolor": "#E5ECF6",
            "gridcolor": "white",
            "gridwidth": 2,
            "linecolor": "white",
            "showbackground": true,
            "ticks": "",
            "zerolinecolor": "white"
           },
           "zaxis": {
            "backgroundcolor": "#E5ECF6",
            "gridcolor": "white",
            "gridwidth": 2,
            "linecolor": "white",
            "showbackground": true,
            "ticks": "",
            "zerolinecolor": "white"
           }
          },
          "shapedefaults": {
           "line": {
            "color": "#2a3f5f"
           }
          },
          "ternary": {
           "aaxis": {
            "gridcolor": "white",
            "linecolor": "white",
            "ticks": ""
           },
           "baxis": {
            "gridcolor": "white",
            "linecolor": "white",
            "ticks": ""
           },
           "bgcolor": "#E5ECF6",
           "caxis": {
            "gridcolor": "white",
            "linecolor": "white",
            "ticks": ""
           }
          },
          "title": {
           "x": 0.05
          },
          "xaxis": {
           "automargin": true,
           "gridcolor": "white",
           "linecolor": "white",
           "ticks": "",
           "title": {
            "standoff": 15
           },
           "zerolinecolor": "white",
           "zerolinewidth": 2
          },
          "yaxis": {
           "automargin": true,
           "gridcolor": "white",
           "linecolor": "white",
           "ticks": "",
           "title": {
            "standoff": 15
           },
           "zerolinecolor": "white",
           "zerolinewidth": 2
          }
         }
        },
        "title": {
         "font": {
          "color": "#4D5663"
         },
         "text": "Change in Whole Milk Price vs Change in Diet Composition (Safeway, M 19-30)"
        },
        "xaxis": {
         "gridcolor": "#E1E5ED",
         "showgrid": true,
         "tickfont": {
          "color": "#4D5663"
         },
         "title": {
          "font": {
           "color": "#4D5663"
          },
          "text": "Whole Milk Price"
         },
         "zerolinecolor": "#E1E5ED"
        },
        "yaxis": {
         "gridcolor": "#E1E5ED",
         "showgrid": true,
         "tickfont": {
          "color": "#4D5663"
         },
         "title": {
          "font": {
           "color": "#4D5663"
          },
          "text": "Quantity (Hectograms)"
         },
         "zerolinecolor": "#E1E5ED"
        }
       }
      },
      "text/html": [
       "<div>                            <div id=\"2b1bcc28-7cdd-4cd6-a67c-9ae1f8d4331e\" class=\"plotly-graph-div\" style=\"height:525px; width:100%;\"></div>            <script type=\"text/javascript\">                require([\"plotly\"], function(Plotly) {                    window.PLOTLYENV=window.PLOTLYENV || {};\n",
       "                    window.PLOTLYENV.BASE_URL='https://plot.ly';                                    if (document.getElementById(\"2b1bcc28-7cdd-4cd6-a67c-9ae1f8d4331e\")) {                    Plotly.newPlot(                        \"2b1bcc28-7cdd-4cd6-a67c-9ae1f8d4331e\",                        [{\"line\":{\"color\":\"rgba(255, 153, 51, 1.0)\",\"dash\":\"solid\",\"shape\":\"linear\",\"width\":1.3},\"mode\":\"lines\",\"name\":\"Almond Milk\",\"text\":\"\",\"type\":\"scatter\",\"x\":[0.05911144404832029,0.08866716607248043,0.10640059928697652,0.11822288809664058,0.13004517690630465,0.1418674657159687,0.15368975452563277,0.16551204333529682,0.17733433214496086,0.23644577619328117,0.47289155238656233],\"y\":[1.3934857456885335,1.294435936480396,1.294435648485109,0.8647421575847979,0.8647421575128112,0.8647429034757124,0.8647421819667439,0.8647421570889556,0.8647421522995522,0.7306223226950698,1.4775351210443896e-09]},{\"line\":{\"color\":\"rgba(55, 128, 191, 1.0)\",\"dash\":\"solid\",\"shape\":\"linear\",\"width\":1.3},\"mode\":\"lines\",\"name\":\"Avocado\",\"text\":\"\",\"type\":\"scatter\",\"x\":[0.05911144404832029,0.08866716607248043,0.10640059928697652,0.11822288809664058,0.13004517690630465,0.1418674657159687,0.15368975452563277,0.16551204333529682,0.17733433214496086,0.23644577619328117,0.47289155238656233],\"y\":[4.897313814348185,4.436741091457059,4.436739170498159,2.754537265359171,2.7545372647751516,2.7545361880113646,2.7545338155833976,2.754537258730151,2.7545372443774734,2.2427559363926477,4.396775262903748]},{\"line\":{\"color\":\"rgba(50, 171, 96, 1.0)\",\"dash\":\"solid\",\"shape\":\"linear\",\"width\":1.3},\"mode\":\"lines\",\"name\":\"Bananas\",\"text\":\"\",\"type\":\"scatter\",\"x\":[0.05911144404832029,0.08866716607248043,0.10640059928697652,0.11822288809664058,0.13004517690630465,0.1418674657159687,0.15368975452563277,0.16551204333529682,0.17733433214496086,0.23644577619328117,0.47289155238656233],\"y\":[1.0501999784479773e-06,8.632736844598295e-09,4.495824949483773e-07,1.7122338871889203e-09,4.4825927731130215e-09,5.895046106076894e-05,6.148996748571214e-07,1.6003594628036886e-10,1.2270427130687292e-09,1.1153149620639557e-07,1.0611279081454146e-09]},{\"line\":{\"color\":\"rgba(128, 0, 128, 1.0)\",\"dash\":\"solid\",\"shape\":\"linear\",\"width\":1.3},\"mode\":\"lines\",\"name\":\"Black Beans\",\"text\":\"\",\"type\":\"scatter\",\"x\":[0.05911144404832029,0.08866716607248043,0.10640059928697652,0.11822288809664058,0.13004517690630465,0.1418674657159687,0.15368975452563277,0.16551204333529682,0.17733433214496086,0.23644577619328117,0.47289155238656233],\"y\":[0.11915474227687076,0.4958497711052922,0.4958495925722899,0.7358642374990609,0.735864236827733,0.7358527585605197,0.7358625240398646,0.7358642406483413,0.7358642428206046,0.7660951483004336,0.3505844879916473]},{\"line\":{\"color\":\"rgba(219, 64, 82, 1.0)\",\"dash\":\"solid\",\"shape\":\"linear\",\"width\":1.3},\"mode\":\"lines\",\"name\":\"Carrots\",\"text\":\"\",\"type\":\"scatter\",\"x\":[0.05911144404832029,0.08866716607248043,0.10640059928697652,0.11822288809664058,0.13004517690630465,0.1418674657159687,0.15368975452563277,0.16551204333529682,0.17733433214496086,0.23644577619328117,0.47289155238656233],\"y\":[0.10126801841750445,2.0699755576141317,2.0699834603442815,9.264091544649917,9.264091547130823,9.26409600083183,9.264106966205837,9.264091572229535,9.264091634449597,11.452955120075096,26.516006696759113]},{\"line\":{\"color\":\"rgba(0, 128, 128, 1.0)\",\"dash\":\"solid\",\"shape\":\"linear\",\"width\":1.3},\"mode\":\"lines\",\"name\":\"Corn\",\"text\":\"\",\"type\":\"scatter\",\"x\":[0.05911144404832029,0.08866716607248043,0.10640059928697652,0.11822288809664058,0.13004517690630465,0.1418674657159687,0.15368975452563277,0.16551204333529682,0.17733433214496086,0.23644577619328117,0.47289155238656233],\"y\":[4.4014175730958746e-07,6.956366596832228e-09,2.1269772729148474e-07,0.48826569293857913,0.48826569172732676,0.48823918364708657,0.48826896247979107,0.48826569599920694,0.48826570005487074,0.6157208924148947,0.46199523781036134]},{\"line\":{\"color\":\"rgba(255, 255, 51, 1.0)\",\"dash\":\"solid\",\"shape\":\"linear\",\"width\":1.3},\"mode\":\"lines\",\"name\":\"Kale\",\"text\":\"\",\"type\":\"scatter\",\"x\":[0.05911144404832029,0.08866716607248043,0.10640059928697652,0.11822288809664058,0.13004517690630465,0.1418674657159687,0.15368975452563277,0.16551204333529682,0.17733433214496086,0.23644577619328117,0.47289155238656233],\"y\":[0.011615720629423924,0.27370780245933485,0.27370742115482194,3.369711747976957e-10,1.921961748849964e-10,4.56748096086482e-07,3.890289090118086e-07,7.755390822465166e-09,9.132279366502399e-10,4.635983761815709e-09,1.5213116867450178e-10]},{\"line\":{\"color\":\"rgba(128, 128, 0, 1.0)\",\"dash\":\"solid\",\"shape\":\"linear\",\"width\":1.3},\"mode\":\"lines\",\"name\":\"Oats\",\"text\":\"\",\"type\":\"scatter\",\"x\":[0.05911144404832029,0.08866716607248043,0.10640059928697652,0.11822288809664058,0.13004517690630465,0.1418674657159687,0.15368975452563277,0.16551204333529682,0.17733433214496086,0.23644577619328117,0.47289155238656233],\"y\":[8.702848008264383e-07,6.222035218471168e-09,5.0033891732005e-08,6.558002327489202e-11,1.677444174067079e-10,1.2395614101873518e-06,4.6562950399313895e-07,2.243705436619751e-09,4.824177390926727e-10,1.5738719118291237e-08,1.7348189370341034e-09]},{\"line\":{\"color\":\"rgba(251, 128, 114, 1.0)\",\"dash\":\"solid\",\"shape\":\"linear\",\"width\":1.3},\"mode\":\"lines\",\"name\":\"Oranges\",\"text\":\"\",\"type\":\"scatter\",\"x\":[0.05911144404832029,0.08866716607248043,0.10640059928697652,0.11822288809664058,0.13004517690630465,0.1418674657159687,0.15368975452563277,0.16551204333529682,0.17733433214496086,0.23644577619328117,0.47289155238656233],\"y\":[9.442772767459541e-07,2.1675504802373707e-09,5.534210949862014e-08,6.336558640779249e-11,2.527271203103601e-10,2.2322416844921617e-06,7.191997438498218e-07,1.2450218056504332e-09,3.358670362824492e-10,4.402717598615723e-09,4.2954507150349386e-10]},{\"line\":{\"color\":\"rgba(128, 177, 211, 1.0)\",\"dash\":\"solid\",\"shape\":\"linear\",\"width\":1.3},\"mode\":\"lines\",\"name\":\"Potatoes\",\"text\":\"\",\"type\":\"scatter\",\"x\":[0.05911144404832029,0.08866716607248043,0.10640059928697652,0.11822288809664058,0.13004517690630465,0.1418674657159687,0.15368975452563277,0.16551204333529682,0.17733433214496086,0.23644577619328117,0.47289155238656233],\"y\":[2.143462422655812,5.661690453578981e-07,1.232389753884471e-06,0.4283784154743445,0.42837841322875336,0.42832146911416946,0.4283703804665028,0.42837835795177415,0.42837839563515256,2.4943738058090294e-07,1.9815645594657397e-09]},{\"line\":{\"color\":\"rgba(128, 177, 211, 0.8999999999999999)\",\"dash\":\"solid\",\"shape\":\"linear\",\"width\":1.3},\"mode\":\"lines\",\"name\":\"White Bread\",\"text\":\"\",\"type\":\"scatter\",\"x\":[0.05911144404832029,0.08866716607248043,0.10640059928697652,0.11822288809664058,0.13004517690630465,0.1418674657159687,0.15368975452563277,0.16551204333529682,0.17733433214496086,0.23644577619328117,0.47289155238656233],\"y\":[1.3807375593961573e-06,8.224682866443318e-09,4.9859011589400005e-08,3.398826048434174e-11,8.697246825664271e-11,6.471887350694716e-07,1.2209702380370614e-06,9.616074798800118e-10,4.83023441841873e-10,7.891639718102933e-09,2.6579822192927494e-10]},{\"line\":{\"color\":\"rgba(255, 153, 51, 0.8999999999999999)\",\"dash\":\"solid\",\"shape\":\"linear\",\"width\":1.3},\"mode\":\"lines\",\"name\":\"White Rice\",\"text\":\"\",\"type\":\"scatter\",\"x\":[0.05911144404832029,0.08866716607248043,0.10640059928697652,0.11822288809664058,0.13004517690630465,0.1418674657159687,0.15368975452563277,0.16551204333529682,0.17733433214496086,0.23644577619328117,0.47289155238656233],\"y\":[4.4476368230980567e-07,2.845177703472699e-09,5.73388777378615e-08,5.0977467693149436e-11,1.3185126175468693e-10,1.0161153592974392e-06,7.308415579325517e-07,1.7006306060482461e-09,3.5146493291107433e-10,1.1819155398950127e-08,1.5600096683060144e-09]},{\"line\":{\"color\":\"rgba(55, 128, 191, 0.8999999999999999)\",\"dash\":\"solid\",\"shape\":\"linear\",\"width\":1.3},\"mode\":\"lines\",\"name\":\"Whole Milk\",\"text\":\"\",\"type\":\"scatter\",\"x\":[0.05911144404832029,0.08866716607248043,0.10640059928697652,0.11822288809664058,0.13004517690630465,0.1418674657159687,0.15368975452563277,0.16551204333529682,0.17733433214496086,0.23644577619328117,0.47289155238656233],\"y\":[20.66626779088635,19.095701073994235,19.09569873067533,16.98007231757523,16.98007231708846,16.980072830230814,16.98006842352199,16.98007231093996,16.980072299020367,16.51729177905648,4.4444444447236435]},{\"line\":{\"color\":\"rgba(50, 171, 96, 0.8999999999999999)\",\"dash\":\"solid\",\"shape\":\"linear\",\"width\":1.3},\"mode\":\"lines\",\"name\":\"spaghetti\",\"text\":\"\",\"type\":\"scatter\",\"x\":[0.05911144404832029,0.08866716607248043,0.10640059928697652,0.11822288809664058,0.13004517690630465,0.1418674657159687,0.15368975452563277,0.16551204333529682,0.17733433214496086,0.23644577619328117,0.47289155238656233],\"y\":[0.9236392990125377,0.6993685905423825,0.6993678950685562,0.047898650014701435,0.047898649969534315,0.04790066302638388,0.0478977236777109,0.04789864693041319,0.047898640845652644,7.5563024580515e-09,2.4141601911973676e-09]}],                        {\"legend\":{\"bgcolor\":\"#F5F6F9\",\"font\":{\"color\":\"#4D5663\"}},\"paper_bgcolor\":\"#F5F6F9\",\"plot_bgcolor\":\"#F5F6F9\",\"template\":{\"data\":{\"bar\":[{\"error_x\":{\"color\":\"#2a3f5f\"},\"error_y\":{\"color\":\"#2a3f5f\"},\"marker\":{\"line\":{\"color\":\"#E5ECF6\",\"width\":0.5},\"pattern\":{\"fillmode\":\"overlay\",\"size\":10,\"solidity\":0.2}},\"type\":\"bar\"}],\"barpolar\":[{\"marker\":{\"line\":{\"color\":\"#E5ECF6\",\"width\":0.5},\"pattern\":{\"fillmode\":\"overlay\",\"size\":10,\"solidity\":0.2}},\"type\":\"barpolar\"}],\"carpet\":[{\"aaxis\":{\"endlinecolor\":\"#2a3f5f\",\"gridcolor\":\"white\",\"linecolor\":\"white\",\"minorgridcolor\":\"white\",\"startlinecolor\":\"#2a3f5f\"},\"baxis\":{\"endlinecolor\":\"#2a3f5f\",\"gridcolor\":\"white\",\"linecolor\":\"white\",\"minorgridcolor\":\"white\",\"startlinecolor\":\"#2a3f5f\"},\"type\":\"carpet\"}],\"choropleth\":[{\"colorbar\":{\"outlinewidth\":0,\"ticks\":\"\"},\"type\":\"choropleth\"}],\"contour\":[{\"colorbar\":{\"outlinewidth\":0,\"ticks\":\"\"},\"colorscale\":[[0.0,\"#0d0887\"],[0.1111111111111111,\"#46039f\"],[0.2222222222222222,\"#7201a8\"],[0.3333333333333333,\"#9c179e\"],[0.4444444444444444,\"#bd3786\"],[0.5555555555555556,\"#d8576b\"],[0.6666666666666666,\"#ed7953\"],[0.7777777777777778,\"#fb9f3a\"],[0.8888888888888888,\"#fdca26\"],[1.0,\"#f0f921\"]],\"type\":\"contour\"}],\"contourcarpet\":[{\"colorbar\":{\"outlinewidth\":0,\"ticks\":\"\"},\"type\":\"contourcarpet\"}],\"heatmap\":[{\"colorbar\":{\"outlinewidth\":0,\"ticks\":\"\"},\"colorscale\":[[0.0,\"#0d0887\"],[0.1111111111111111,\"#46039f\"],[0.2222222222222222,\"#7201a8\"],[0.3333333333333333,\"#9c179e\"],[0.4444444444444444,\"#bd3786\"],[0.5555555555555556,\"#d8576b\"],[0.6666666666666666,\"#ed7953\"],[0.7777777777777778,\"#fb9f3a\"],[0.8888888888888888,\"#fdca26\"],[1.0,\"#f0f921\"]],\"type\":\"heatmap\"}],\"heatmapgl\":[{\"colorbar\":{\"outlinewidth\":0,\"ticks\":\"\"},\"colorscale\":[[0.0,\"#0d0887\"],[0.1111111111111111,\"#46039f\"],[0.2222222222222222,\"#7201a8\"],[0.3333333333333333,\"#9c179e\"],[0.4444444444444444,\"#bd3786\"],[0.5555555555555556,\"#d8576b\"],[0.6666666666666666,\"#ed7953\"],[0.7777777777777778,\"#fb9f3a\"],[0.8888888888888888,\"#fdca26\"],[1.0,\"#f0f921\"]],\"type\":\"heatmapgl\"}],\"histogram\":[{\"marker\":{\"pattern\":{\"fillmode\":\"overlay\",\"size\":10,\"solidity\":0.2}},\"type\":\"histogram\"}],\"histogram2d\":[{\"colorbar\":{\"outlinewidth\":0,\"ticks\":\"\"},\"colorscale\":[[0.0,\"#0d0887\"],[0.1111111111111111,\"#46039f\"],[0.2222222222222222,\"#7201a8\"],[0.3333333333333333,\"#9c179e\"],[0.4444444444444444,\"#bd3786\"],[0.5555555555555556,\"#d8576b\"],[0.6666666666666666,\"#ed7953\"],[0.7777777777777778,\"#fb9f3a\"],[0.8888888888888888,\"#fdca26\"],[1.0,\"#f0f921\"]],\"type\":\"histogram2d\"}],\"histogram2dcontour\":[{\"colorbar\":{\"outlinewidth\":0,\"ticks\":\"\"},\"colorscale\":[[0.0,\"#0d0887\"],[0.1111111111111111,\"#46039f\"],[0.2222222222222222,\"#7201a8\"],[0.3333333333333333,\"#9c179e\"],[0.4444444444444444,\"#bd3786\"],[0.5555555555555556,\"#d8576b\"],[0.6666666666666666,\"#ed7953\"],[0.7777777777777778,\"#fb9f3a\"],[0.8888888888888888,\"#fdca26\"],[1.0,\"#f0f921\"]],\"type\":\"histogram2dcontour\"}],\"mesh3d\":[{\"colorbar\":{\"outlinewidth\":0,\"ticks\":\"\"},\"type\":\"mesh3d\"}],\"parcoords\":[{\"line\":{\"colorbar\":{\"outlinewidth\":0,\"ticks\":\"\"}},\"type\":\"parcoords\"}],\"pie\":[{\"automargin\":true,\"type\":\"pie\"}],\"scatter\":[{\"marker\":{\"colorbar\":{\"outlinewidth\":0,\"ticks\":\"\"}},\"type\":\"scatter\"}],\"scatter3d\":[{\"line\":{\"colorbar\":{\"outlinewidth\":0,\"ticks\":\"\"}},\"marker\":{\"colorbar\":{\"outlinewidth\":0,\"ticks\":\"\"}},\"type\":\"scatter3d\"}],\"scattercarpet\":[{\"marker\":{\"colorbar\":{\"outlinewidth\":0,\"ticks\":\"\"}},\"type\":\"scattercarpet\"}],\"scattergeo\":[{\"marker\":{\"colorbar\":{\"outlinewidth\":0,\"ticks\":\"\"}},\"type\":\"scattergeo\"}],\"scattergl\":[{\"marker\":{\"colorbar\":{\"outlinewidth\":0,\"ticks\":\"\"}},\"type\":\"scattergl\"}],\"scattermapbox\":[{\"marker\":{\"colorbar\":{\"outlinewidth\":0,\"ticks\":\"\"}},\"type\":\"scattermapbox\"}],\"scatterpolar\":[{\"marker\":{\"colorbar\":{\"outlinewidth\":0,\"ticks\":\"\"}},\"type\":\"scatterpolar\"}],\"scatterpolargl\":[{\"marker\":{\"colorbar\":{\"outlinewidth\":0,\"ticks\":\"\"}},\"type\":\"scatterpolargl\"}],\"scatterternary\":[{\"marker\":{\"colorbar\":{\"outlinewidth\":0,\"ticks\":\"\"}},\"type\":\"scatterternary\"}],\"surface\":[{\"colorbar\":{\"outlinewidth\":0,\"ticks\":\"\"},\"colorscale\":[[0.0,\"#0d0887\"],[0.1111111111111111,\"#46039f\"],[0.2222222222222222,\"#7201a8\"],[0.3333333333333333,\"#9c179e\"],[0.4444444444444444,\"#bd3786\"],[0.5555555555555556,\"#d8576b\"],[0.6666666666666666,\"#ed7953\"],[0.7777777777777778,\"#fb9f3a\"],[0.8888888888888888,\"#fdca26\"],[1.0,\"#f0f921\"]],\"type\":\"surface\"}],\"table\":[{\"cells\":{\"fill\":{\"color\":\"#EBF0F8\"},\"line\":{\"color\":\"white\"}},\"header\":{\"fill\":{\"color\":\"#C8D4E3\"},\"line\":{\"color\":\"white\"}},\"type\":\"table\"}]},\"layout\":{\"annotationdefaults\":{\"arrowcolor\":\"#2a3f5f\",\"arrowhead\":0,\"arrowwidth\":1},\"autotypenumbers\":\"strict\",\"coloraxis\":{\"colorbar\":{\"outlinewidth\":0,\"ticks\":\"\"}},\"colorscale\":{\"diverging\":[[0,\"#8e0152\"],[0.1,\"#c51b7d\"],[0.2,\"#de77ae\"],[0.3,\"#f1b6da\"],[0.4,\"#fde0ef\"],[0.5,\"#f7f7f7\"],[0.6,\"#e6f5d0\"],[0.7,\"#b8e186\"],[0.8,\"#7fbc41\"],[0.9,\"#4d9221\"],[1,\"#276419\"]],\"sequential\":[[0.0,\"#0d0887\"],[0.1111111111111111,\"#46039f\"],[0.2222222222222222,\"#7201a8\"],[0.3333333333333333,\"#9c179e\"],[0.4444444444444444,\"#bd3786\"],[0.5555555555555556,\"#d8576b\"],[0.6666666666666666,\"#ed7953\"],[0.7777777777777778,\"#fb9f3a\"],[0.8888888888888888,\"#fdca26\"],[1.0,\"#f0f921\"]],\"sequentialminus\":[[0.0,\"#0d0887\"],[0.1111111111111111,\"#46039f\"],[0.2222222222222222,\"#7201a8\"],[0.3333333333333333,\"#9c179e\"],[0.4444444444444444,\"#bd3786\"],[0.5555555555555556,\"#d8576b\"],[0.6666666666666666,\"#ed7953\"],[0.7777777777777778,\"#fb9f3a\"],[0.8888888888888888,\"#fdca26\"],[1.0,\"#f0f921\"]]},\"colorway\":[\"#636efa\",\"#EF553B\",\"#00cc96\",\"#ab63fa\",\"#FFA15A\",\"#19d3f3\",\"#FF6692\",\"#B6E880\",\"#FF97FF\",\"#FECB52\"],\"font\":{\"color\":\"#2a3f5f\"},\"geo\":{\"bgcolor\":\"white\",\"lakecolor\":\"white\",\"landcolor\":\"#E5ECF6\",\"showlakes\":true,\"showland\":true,\"subunitcolor\":\"white\"},\"hoverlabel\":{\"align\":\"left\"},\"hovermode\":\"closest\",\"mapbox\":{\"style\":\"light\"},\"paper_bgcolor\":\"white\",\"plot_bgcolor\":\"#E5ECF6\",\"polar\":{\"angularaxis\":{\"gridcolor\":\"white\",\"linecolor\":\"white\",\"ticks\":\"\"},\"bgcolor\":\"#E5ECF6\",\"radialaxis\":{\"gridcolor\":\"white\",\"linecolor\":\"white\",\"ticks\":\"\"}},\"scene\":{\"xaxis\":{\"backgroundcolor\":\"#E5ECF6\",\"gridcolor\":\"white\",\"gridwidth\":2,\"linecolor\":\"white\",\"showbackground\":true,\"ticks\":\"\",\"zerolinecolor\":\"white\"},\"yaxis\":{\"backgroundcolor\":\"#E5ECF6\",\"gridcolor\":\"white\",\"gridwidth\":2,\"linecolor\":\"white\",\"showbackground\":true,\"ticks\":\"\",\"zerolinecolor\":\"white\"},\"zaxis\":{\"backgroundcolor\":\"#E5ECF6\",\"gridcolor\":\"white\",\"gridwidth\":2,\"linecolor\":\"white\",\"showbackground\":true,\"ticks\":\"\",\"zerolinecolor\":\"white\"}},\"shapedefaults\":{\"line\":{\"color\":\"#2a3f5f\"}},\"ternary\":{\"aaxis\":{\"gridcolor\":\"white\",\"linecolor\":\"white\",\"ticks\":\"\"},\"baxis\":{\"gridcolor\":\"white\",\"linecolor\":\"white\",\"ticks\":\"\"},\"bgcolor\":\"#E5ECF6\",\"caxis\":{\"gridcolor\":\"white\",\"linecolor\":\"white\",\"ticks\":\"\"}},\"title\":{\"x\":0.05},\"xaxis\":{\"automargin\":true,\"gridcolor\":\"white\",\"linecolor\":\"white\",\"ticks\":\"\",\"title\":{\"standoff\":15},\"zerolinecolor\":\"white\",\"zerolinewidth\":2},\"yaxis\":{\"automargin\":true,\"gridcolor\":\"white\",\"linecolor\":\"white\",\"ticks\":\"\",\"title\":{\"standoff\":15},\"zerolinecolor\":\"white\",\"zerolinewidth\":2}}},\"title\":{\"font\":{\"color\":\"#4D5663\"},\"text\":\"Change in Whole Milk Price vs Change in Diet Composition (Safeway, M 19-30)\"},\"xaxis\":{\"gridcolor\":\"#E1E5ED\",\"showgrid\":true,\"tickfont\":{\"color\":\"#4D5663\"},\"title\":{\"font\":{\"color\":\"#4D5663\"},\"text\":\"Whole Milk Price\"},\"zerolinecolor\":\"#E1E5ED\"},\"yaxis\":{\"gridcolor\":\"#E1E5ED\",\"showgrid\":true,\"tickfont\":{\"color\":\"#4D5663\"},\"title\":{\"font\":{\"color\":\"#4D5663\"},\"text\":\"Quantity (Hectograms)\"},\"zerolinecolor\":\"#E1E5ED\"}},                        {\"showLink\": true, \"linkText\": \"Export to plot.ly\", \"plotlyServerURL\": \"https://plot.ly\", \"responsive\": true}                    ).then(function(){\n",
       "                            \n",
       "var gd = document.getElementById('2b1bcc28-7cdd-4cd6-a67c-9ae1f8d4331e');\n",
       "var x = new MutationObserver(function (mutations, observer) {{\n",
       "        var display = window.getComputedStyle(gd).display;\n",
       "        if (!display || display === 'none') {{\n",
       "            console.log([gd, 'removed!']);\n",
       "            Plotly.purge(gd);\n",
       "            observer.disconnect();\n",
       "        }}\n",
       "}});\n",
       "\n",
       "// Listen for the removal of the full notebook cells\n",
       "var notebookContainer = gd.closest('#notebook-container');\n",
       "if (notebookContainer) {{\n",
       "    x.observe(notebookContainer, {childList: true});\n",
       "}}\n",
       "\n",
       "// Listen for the clearing of the current output cell\n",
       "var outputEl = gd.closest('.output');\n",
       "if (outputEl) {{\n",
       "    x.observe(outputEl, {childList: true});\n",
       "}}\n",
       "\n",
       "                        })                };                });            </script>        </div>"
      ]
     },
     "metadata": {},
     "output_type": "display_data"
    }
   ],
   "source": [
    "#example \n",
    "price_quantity(\"Safeway\", \"M\", \"19-30\", \"Whole Milk\")"
   ]
  },
  {
   "cell_type": "markdown",
   "id": "c05b157d",
   "metadata": {},
   "source": [
    "### 3. Effect of Food Prices on Diet Nutrition \n",
    "The `price_nutrition` function create a graph demonstrating **the relationship between the changes in food prices and the nutritional composition of the diet** for the specified store and sex-age group"
   ]
  },
  {
   "cell_type": "code",
   "execution_count": 29,
   "id": "6d62501e",
   "metadata": {},
   "outputs": [],
   "source": [
    "def price_nutrition(store, sex, age, good):\n",
    "    group = f'{sex } {age}'\n",
    "    FoodNutrients = match_n(store)\n",
    "    Prices = match_p(store)\n",
    "    tol=1e-6\n",
    "    ReferenceGood = good\n",
    "    \n",
    "    scale = [0.5,0.75,0.9,1.,1.1,1.2,1.3,1.4,1.5,2,4]\n",
    "    cost0 = solve_subsistence_problem(store, FoodNutrients, Prices, diet_min[group], diet_max[group], tol=1e-6).fun\n",
    "    \n",
    "    my_p = Prices.copy()\n",
    "\n",
    "    diet = {}\n",
    "    for s in scale:\n",
    "        my_p[ReferenceGood] = Prices[ReferenceGood]*s\n",
    "        result = solve_subsistence_problem(store, FoodNutrients, my_p, diet_min[group], diet_max[group], tol=tol)\n",
    "        diet[my_p[ReferenceGood]] = result.diet\n",
    "        \n",
    "    NutrientResponse = pd.DataFrame(diet).T\n",
    "    NutrientResponse.index.name = '%s Price' % ReferenceGood\n",
    "\n",
    "    NutrientResponse.reset_index(inplace=True)\n",
    "\n",
    "    # Get rid of units for index (cufflinks chokes)\n",
    "    NutrientResponse['%s Price' % ReferenceGood] = NutrientResponse['%s Price' % ReferenceGood].apply(lambda x: x.magnitude)\n",
    "    NutrientResponse = NutrientResponse.set_index('%s Price' % ReferenceGood)\n",
    "    \n",
    "    # Matrix product maps quantities of food into quantities of nutrients\n",
    "    NutrientResponse = NutrientResponse@FoodNutrients.T\n",
    "\n",
    "    # Drop columns of missing nutrients\n",
    "    NutrientResponse = NutrientResponse.loc[:,NutrientResponse.count()>0]\n",
    "    return NutrientResponse.iplot(xTitle='%s Price' % ReferenceGood,\n",
    "                                  yTitle='Hectograms',\n",
    "                                 title = f\"Change in {good} Price vs Change in Nutritional Composition ({store}, {sex} {age})\")\n",
    "    "
   ]
  },
  {
   "cell_type": "code",
   "execution_count": 40,
   "id": "53ae9aca",
   "metadata": {},
   "outputs": [
    {
     "name": "stderr",
     "output_type": "stream",
     "text": [
      "/opt/conda/lib/python3.9/site-packages/pandas/core/dtypes/cast.py:1990: UnitStrippedWarning:\n",
      "\n",
      "The unit of the quantity is stripped when downcasting to ndarray.\n",
      "\n"
     ]
    },
    {
     "data": {
      "application/vnd.plotly.v1+json": {
       "config": {
        "linkText": "Export to plot.ly",
        "plotlyServerURL": "https://plot.ly",
        "showLink": true
       },
       "data": [
        {
         "line": {
          "color": "rgba(255, 153, 51, 1.0)",
          "dash": "solid",
          "shape": "linear",
          "width": 1.3
         },
         "mode": "lines",
         "name": "Carbohydrate, by difference",
         "text": "",
         "type": "scatter",
         "x": [
          0.05911144404832029,
          0.08866716607248043,
          0.10640059928697652,
          0.11822288809664058,
          0.13004517690630465,
          0.1418674657159687,
          0.15368975452563277,
          0.16551204333529682,
          0.17733433214496086,
          0.23644577619328117,
          0.47289155238656233
         ],
         "y": [
          260.9158740389503,
          239.17671148515632,
          239.17676325349422,
          284.3371919193919,
          284.33719191880067,
          284.33678416508684,
          284.33753816215915,
          284.3371919185452,
          284.33719237976544,
          297.1638767929021,
          364.0651863615929
         ]
        },
        {
         "line": {
          "color": "rgba(55, 128, 191, 1.0)",
          "dash": "solid",
          "shape": "linear",
          "width": 1.3
         },
         "mode": "lines",
         "name": "Protein",
         "text": "",
         "type": "scatter",
         "x": [
          0.05911144404832029,
          0.08866716607248043,
          0.10640059928697652,
          0.11822288809664058,
          0.13004517690630465,
          0.1418674657159687,
          0.15368975452563277,
          0.16551204333529682,
          0.17733433214496086,
          0.23644577619328117,
          0.47289155238656233
         ],
         "y": [
          96.84998519346662,
          94.90604455718697,
          94.90603841495884,
          88.34245434157124,
          88.34245436015986,
          88.34291309428029,
          88.34244320043429,
          88.34245435977027,
          88.3424543070649,
          87.00445912423584,
          56.00000007659224
         ]
        },
        {
         "line": {
          "color": "rgba(50, 171, 96, 1.0)",
          "dash": "solid",
          "shape": "linear",
          "width": 1.3
         },
         "mode": "lines",
         "name": "Total lipid (fat)",
         "text": "",
         "type": "scatter",
         "x": [
          0.05911144404832029,
          0.08866716607248043,
          0.10640059928697652,
          0.11822288809664058,
          0.13004517690630465,
          0.1418674657159687,
          0.15368975452563277,
          0.16551204333529682,
          0.17733433214496086,
          0.23644577619328117,
          0.47289155238656233
         ],
         "y": [
          141.04633400430305,
          129.90748912808564,
          129.90746329968167,
          110.45669755806126,
          110.45669753811735,
          110.45643686243949,
          110.45674029410364,
          110.45669756686314,
          110.45669737770726,
          104.89917561034487,
          96.59502061854599
         ]
        }
       ],
       "layout": {
        "legend": {
         "bgcolor": "#F5F6F9",
         "font": {
          "color": "#4D5663"
         }
        },
        "paper_bgcolor": "#F5F6F9",
        "plot_bgcolor": "#F5F6F9",
        "template": {
         "data": {
          "bar": [
           {
            "error_x": {
             "color": "#2a3f5f"
            },
            "error_y": {
             "color": "#2a3f5f"
            },
            "marker": {
             "line": {
              "color": "#E5ECF6",
              "width": 0.5
             },
             "pattern": {
              "fillmode": "overlay",
              "size": 10,
              "solidity": 0.2
             }
            },
            "type": "bar"
           }
          ],
          "barpolar": [
           {
            "marker": {
             "line": {
              "color": "#E5ECF6",
              "width": 0.5
             },
             "pattern": {
              "fillmode": "overlay",
              "size": 10,
              "solidity": 0.2
             }
            },
            "type": "barpolar"
           }
          ],
          "carpet": [
           {
            "aaxis": {
             "endlinecolor": "#2a3f5f",
             "gridcolor": "white",
             "linecolor": "white",
             "minorgridcolor": "white",
             "startlinecolor": "#2a3f5f"
            },
            "baxis": {
             "endlinecolor": "#2a3f5f",
             "gridcolor": "white",
             "linecolor": "white",
             "minorgridcolor": "white",
             "startlinecolor": "#2a3f5f"
            },
            "type": "carpet"
           }
          ],
          "choropleth": [
           {
            "colorbar": {
             "outlinewidth": 0,
             "ticks": ""
            },
            "type": "choropleth"
           }
          ],
          "contour": [
           {
            "colorbar": {
             "outlinewidth": 0,
             "ticks": ""
            },
            "colorscale": [
             [
              0,
              "#0d0887"
             ],
             [
              0.1111111111111111,
              "#46039f"
             ],
             [
              0.2222222222222222,
              "#7201a8"
             ],
             [
              0.3333333333333333,
              "#9c179e"
             ],
             [
              0.4444444444444444,
              "#bd3786"
             ],
             [
              0.5555555555555556,
              "#d8576b"
             ],
             [
              0.6666666666666666,
              "#ed7953"
             ],
             [
              0.7777777777777778,
              "#fb9f3a"
             ],
             [
              0.8888888888888888,
              "#fdca26"
             ],
             [
              1,
              "#f0f921"
             ]
            ],
            "type": "contour"
           }
          ],
          "contourcarpet": [
           {
            "colorbar": {
             "outlinewidth": 0,
             "ticks": ""
            },
            "type": "contourcarpet"
           }
          ],
          "heatmap": [
           {
            "colorbar": {
             "outlinewidth": 0,
             "ticks": ""
            },
            "colorscale": [
             [
              0,
              "#0d0887"
             ],
             [
              0.1111111111111111,
              "#46039f"
             ],
             [
              0.2222222222222222,
              "#7201a8"
             ],
             [
              0.3333333333333333,
              "#9c179e"
             ],
             [
              0.4444444444444444,
              "#bd3786"
             ],
             [
              0.5555555555555556,
              "#d8576b"
             ],
             [
              0.6666666666666666,
              "#ed7953"
             ],
             [
              0.7777777777777778,
              "#fb9f3a"
             ],
             [
              0.8888888888888888,
              "#fdca26"
             ],
             [
              1,
              "#f0f921"
             ]
            ],
            "type": "heatmap"
           }
          ],
          "heatmapgl": [
           {
            "colorbar": {
             "outlinewidth": 0,
             "ticks": ""
            },
            "colorscale": [
             [
              0,
              "#0d0887"
             ],
             [
              0.1111111111111111,
              "#46039f"
             ],
             [
              0.2222222222222222,
              "#7201a8"
             ],
             [
              0.3333333333333333,
              "#9c179e"
             ],
             [
              0.4444444444444444,
              "#bd3786"
             ],
             [
              0.5555555555555556,
              "#d8576b"
             ],
             [
              0.6666666666666666,
              "#ed7953"
             ],
             [
              0.7777777777777778,
              "#fb9f3a"
             ],
             [
              0.8888888888888888,
              "#fdca26"
             ],
             [
              1,
              "#f0f921"
             ]
            ],
            "type": "heatmapgl"
           }
          ],
          "histogram": [
           {
            "marker": {
             "pattern": {
              "fillmode": "overlay",
              "size": 10,
              "solidity": 0.2
             }
            },
            "type": "histogram"
           }
          ],
          "histogram2d": [
           {
            "colorbar": {
             "outlinewidth": 0,
             "ticks": ""
            },
            "colorscale": [
             [
              0,
              "#0d0887"
             ],
             [
              0.1111111111111111,
              "#46039f"
             ],
             [
              0.2222222222222222,
              "#7201a8"
             ],
             [
              0.3333333333333333,
              "#9c179e"
             ],
             [
              0.4444444444444444,
              "#bd3786"
             ],
             [
              0.5555555555555556,
              "#d8576b"
             ],
             [
              0.6666666666666666,
              "#ed7953"
             ],
             [
              0.7777777777777778,
              "#fb9f3a"
             ],
             [
              0.8888888888888888,
              "#fdca26"
             ],
             [
              1,
              "#f0f921"
             ]
            ],
            "type": "histogram2d"
           }
          ],
          "histogram2dcontour": [
           {
            "colorbar": {
             "outlinewidth": 0,
             "ticks": ""
            },
            "colorscale": [
             [
              0,
              "#0d0887"
             ],
             [
              0.1111111111111111,
              "#46039f"
             ],
             [
              0.2222222222222222,
              "#7201a8"
             ],
             [
              0.3333333333333333,
              "#9c179e"
             ],
             [
              0.4444444444444444,
              "#bd3786"
             ],
             [
              0.5555555555555556,
              "#d8576b"
             ],
             [
              0.6666666666666666,
              "#ed7953"
             ],
             [
              0.7777777777777778,
              "#fb9f3a"
             ],
             [
              0.8888888888888888,
              "#fdca26"
             ],
             [
              1,
              "#f0f921"
             ]
            ],
            "type": "histogram2dcontour"
           }
          ],
          "mesh3d": [
           {
            "colorbar": {
             "outlinewidth": 0,
             "ticks": ""
            },
            "type": "mesh3d"
           }
          ],
          "parcoords": [
           {
            "line": {
             "colorbar": {
              "outlinewidth": 0,
              "ticks": ""
             }
            },
            "type": "parcoords"
           }
          ],
          "pie": [
           {
            "automargin": true,
            "type": "pie"
           }
          ],
          "scatter": [
           {
            "marker": {
             "colorbar": {
              "outlinewidth": 0,
              "ticks": ""
             }
            },
            "type": "scatter"
           }
          ],
          "scatter3d": [
           {
            "line": {
             "colorbar": {
              "outlinewidth": 0,
              "ticks": ""
             }
            },
            "marker": {
             "colorbar": {
              "outlinewidth": 0,
              "ticks": ""
             }
            },
            "type": "scatter3d"
           }
          ],
          "scattercarpet": [
           {
            "marker": {
             "colorbar": {
              "outlinewidth": 0,
              "ticks": ""
             }
            },
            "type": "scattercarpet"
           }
          ],
          "scattergeo": [
           {
            "marker": {
             "colorbar": {
              "outlinewidth": 0,
              "ticks": ""
             }
            },
            "type": "scattergeo"
           }
          ],
          "scattergl": [
           {
            "marker": {
             "colorbar": {
              "outlinewidth": 0,
              "ticks": ""
             }
            },
            "type": "scattergl"
           }
          ],
          "scattermapbox": [
           {
            "marker": {
             "colorbar": {
              "outlinewidth": 0,
              "ticks": ""
             }
            },
            "type": "scattermapbox"
           }
          ],
          "scatterpolar": [
           {
            "marker": {
             "colorbar": {
              "outlinewidth": 0,
              "ticks": ""
             }
            },
            "type": "scatterpolar"
           }
          ],
          "scatterpolargl": [
           {
            "marker": {
             "colorbar": {
              "outlinewidth": 0,
              "ticks": ""
             }
            },
            "type": "scatterpolargl"
           }
          ],
          "scatterternary": [
           {
            "marker": {
             "colorbar": {
              "outlinewidth": 0,
              "ticks": ""
             }
            },
            "type": "scatterternary"
           }
          ],
          "surface": [
           {
            "colorbar": {
             "outlinewidth": 0,
             "ticks": ""
            },
            "colorscale": [
             [
              0,
              "#0d0887"
             ],
             [
              0.1111111111111111,
              "#46039f"
             ],
             [
              0.2222222222222222,
              "#7201a8"
             ],
             [
              0.3333333333333333,
              "#9c179e"
             ],
             [
              0.4444444444444444,
              "#bd3786"
             ],
             [
              0.5555555555555556,
              "#d8576b"
             ],
             [
              0.6666666666666666,
              "#ed7953"
             ],
             [
              0.7777777777777778,
              "#fb9f3a"
             ],
             [
              0.8888888888888888,
              "#fdca26"
             ],
             [
              1,
              "#f0f921"
             ]
            ],
            "type": "surface"
           }
          ],
          "table": [
           {
            "cells": {
             "fill": {
              "color": "#EBF0F8"
             },
             "line": {
              "color": "white"
             }
            },
            "header": {
             "fill": {
              "color": "#C8D4E3"
             },
             "line": {
              "color": "white"
             }
            },
            "type": "table"
           }
          ]
         },
         "layout": {
          "annotationdefaults": {
           "arrowcolor": "#2a3f5f",
           "arrowhead": 0,
           "arrowwidth": 1
          },
          "autotypenumbers": "strict",
          "coloraxis": {
           "colorbar": {
            "outlinewidth": 0,
            "ticks": ""
           }
          },
          "colorscale": {
           "diverging": [
            [
             0,
             "#8e0152"
            ],
            [
             0.1,
             "#c51b7d"
            ],
            [
             0.2,
             "#de77ae"
            ],
            [
             0.3,
             "#f1b6da"
            ],
            [
             0.4,
             "#fde0ef"
            ],
            [
             0.5,
             "#f7f7f7"
            ],
            [
             0.6,
             "#e6f5d0"
            ],
            [
             0.7,
             "#b8e186"
            ],
            [
             0.8,
             "#7fbc41"
            ],
            [
             0.9,
             "#4d9221"
            ],
            [
             1,
             "#276419"
            ]
           ],
           "sequential": [
            [
             0,
             "#0d0887"
            ],
            [
             0.1111111111111111,
             "#46039f"
            ],
            [
             0.2222222222222222,
             "#7201a8"
            ],
            [
             0.3333333333333333,
             "#9c179e"
            ],
            [
             0.4444444444444444,
             "#bd3786"
            ],
            [
             0.5555555555555556,
             "#d8576b"
            ],
            [
             0.6666666666666666,
             "#ed7953"
            ],
            [
             0.7777777777777778,
             "#fb9f3a"
            ],
            [
             0.8888888888888888,
             "#fdca26"
            ],
            [
             1,
             "#f0f921"
            ]
           ],
           "sequentialminus": [
            [
             0,
             "#0d0887"
            ],
            [
             0.1111111111111111,
             "#46039f"
            ],
            [
             0.2222222222222222,
             "#7201a8"
            ],
            [
             0.3333333333333333,
             "#9c179e"
            ],
            [
             0.4444444444444444,
             "#bd3786"
            ],
            [
             0.5555555555555556,
             "#d8576b"
            ],
            [
             0.6666666666666666,
             "#ed7953"
            ],
            [
             0.7777777777777778,
             "#fb9f3a"
            ],
            [
             0.8888888888888888,
             "#fdca26"
            ],
            [
             1,
             "#f0f921"
            ]
           ]
          },
          "colorway": [
           "#636efa",
           "#EF553B",
           "#00cc96",
           "#ab63fa",
           "#FFA15A",
           "#19d3f3",
           "#FF6692",
           "#B6E880",
           "#FF97FF",
           "#FECB52"
          ],
          "font": {
           "color": "#2a3f5f"
          },
          "geo": {
           "bgcolor": "white",
           "lakecolor": "white",
           "landcolor": "#E5ECF6",
           "showlakes": true,
           "showland": true,
           "subunitcolor": "white"
          },
          "hoverlabel": {
           "align": "left"
          },
          "hovermode": "closest",
          "mapbox": {
           "style": "light"
          },
          "paper_bgcolor": "white",
          "plot_bgcolor": "#E5ECF6",
          "polar": {
           "angularaxis": {
            "gridcolor": "white",
            "linecolor": "white",
            "ticks": ""
           },
           "bgcolor": "#E5ECF6",
           "radialaxis": {
            "gridcolor": "white",
            "linecolor": "white",
            "ticks": ""
           }
          },
          "scene": {
           "xaxis": {
            "backgroundcolor": "#E5ECF6",
            "gridcolor": "white",
            "gridwidth": 2,
            "linecolor": "white",
            "showbackground": true,
            "ticks": "",
            "zerolinecolor": "white"
           },
           "yaxis": {
            "backgroundcolor": "#E5ECF6",
            "gridcolor": "white",
            "gridwidth": 2,
            "linecolor": "white",
            "showbackground": true,
            "ticks": "",
            "zerolinecolor": "white"
           },
           "zaxis": {
            "backgroundcolor": "#E5ECF6",
            "gridcolor": "white",
            "gridwidth": 2,
            "linecolor": "white",
            "showbackground": true,
            "ticks": "",
            "zerolinecolor": "white"
           }
          },
          "shapedefaults": {
           "line": {
            "color": "#2a3f5f"
           }
          },
          "ternary": {
           "aaxis": {
            "gridcolor": "white",
            "linecolor": "white",
            "ticks": ""
           },
           "baxis": {
            "gridcolor": "white",
            "linecolor": "white",
            "ticks": ""
           },
           "bgcolor": "#E5ECF6",
           "caxis": {
            "gridcolor": "white",
            "linecolor": "white",
            "ticks": ""
           }
          },
          "title": {
           "x": 0.05
          },
          "xaxis": {
           "automargin": true,
           "gridcolor": "white",
           "linecolor": "white",
           "ticks": "",
           "title": {
            "standoff": 15
           },
           "zerolinecolor": "white",
           "zerolinewidth": 2
          },
          "yaxis": {
           "automargin": true,
           "gridcolor": "white",
           "linecolor": "white",
           "ticks": "",
           "title": {
            "standoff": 15
           },
           "zerolinecolor": "white",
           "zerolinewidth": 2
          }
         }
        },
        "title": {
         "font": {
          "color": "#4D5663"
         },
         "text": "Change in Whole Milk Price vs Change in Nutritional Composition (Safeway, M 19-30)"
        },
        "xaxis": {
         "gridcolor": "#E1E5ED",
         "showgrid": true,
         "tickfont": {
          "color": "#4D5663"
         },
         "title": {
          "font": {
           "color": "#4D5663"
          },
          "text": "Whole Milk Price"
         },
         "zerolinecolor": "#E1E5ED"
        },
        "yaxis": {
         "gridcolor": "#E1E5ED",
         "showgrid": true,
         "tickfont": {
          "color": "#4D5663"
         },
         "title": {
          "font": {
           "color": "#4D5663"
          },
          "text": "Hectograms"
         },
         "zerolinecolor": "#E1E5ED"
        }
       }
      },
      "text/html": [
       "<div>                            <div id=\"a08e291c-ce5e-45dd-a722-7439b7a1d66d\" class=\"plotly-graph-div\" style=\"height:525px; width:100%;\"></div>            <script type=\"text/javascript\">                require([\"plotly\"], function(Plotly) {                    window.PLOTLYENV=window.PLOTLYENV || {};\n",
       "                    window.PLOTLYENV.BASE_URL='https://plot.ly';                                    if (document.getElementById(\"a08e291c-ce5e-45dd-a722-7439b7a1d66d\")) {                    Plotly.newPlot(                        \"a08e291c-ce5e-45dd-a722-7439b7a1d66d\",                        [{\"line\":{\"color\":\"rgba(255, 153, 51, 1.0)\",\"dash\":\"solid\",\"shape\":\"linear\",\"width\":1.3},\"mode\":\"lines\",\"name\":\"Carbohydrate, by difference\",\"text\":\"\",\"type\":\"scatter\",\"x\":[0.05911144404832029,0.08866716607248043,0.10640059928697652,0.11822288809664058,0.13004517690630465,0.1418674657159687,0.15368975452563277,0.16551204333529682,0.17733433214496086,0.23644577619328117,0.47289155238656233],\"y\":[260.9158740389503,239.17671148515632,239.17676325349422,284.3371919193919,284.33719191880067,284.33678416508684,284.33753816215915,284.3371919185452,284.33719237976544,297.1638767929021,364.0651863615929]},{\"line\":{\"color\":\"rgba(55, 128, 191, 1.0)\",\"dash\":\"solid\",\"shape\":\"linear\",\"width\":1.3},\"mode\":\"lines\",\"name\":\"Protein\",\"text\":\"\",\"type\":\"scatter\",\"x\":[0.05911144404832029,0.08866716607248043,0.10640059928697652,0.11822288809664058,0.13004517690630465,0.1418674657159687,0.15368975452563277,0.16551204333529682,0.17733433214496086,0.23644577619328117,0.47289155238656233],\"y\":[96.84998519346662,94.90604455718697,94.90603841495884,88.34245434157124,88.34245436015986,88.34291309428029,88.34244320043429,88.34245435977027,88.3424543070649,87.00445912423584,56.00000007659224]},{\"line\":{\"color\":\"rgba(50, 171, 96, 1.0)\",\"dash\":\"solid\",\"shape\":\"linear\",\"width\":1.3},\"mode\":\"lines\",\"name\":\"Total lipid (fat)\",\"text\":\"\",\"type\":\"scatter\",\"x\":[0.05911144404832029,0.08866716607248043,0.10640059928697652,0.11822288809664058,0.13004517690630465,0.1418674657159687,0.15368975452563277,0.16551204333529682,0.17733433214496086,0.23644577619328117,0.47289155238656233],\"y\":[141.04633400430305,129.90748912808564,129.90746329968167,110.45669755806126,110.45669753811735,110.45643686243949,110.45674029410364,110.45669756686314,110.45669737770726,104.89917561034487,96.59502061854599]}],                        {\"legend\":{\"bgcolor\":\"#F5F6F9\",\"font\":{\"color\":\"#4D5663\"}},\"paper_bgcolor\":\"#F5F6F9\",\"plot_bgcolor\":\"#F5F6F9\",\"template\":{\"data\":{\"bar\":[{\"error_x\":{\"color\":\"#2a3f5f\"},\"error_y\":{\"color\":\"#2a3f5f\"},\"marker\":{\"line\":{\"color\":\"#E5ECF6\",\"width\":0.5},\"pattern\":{\"fillmode\":\"overlay\",\"size\":10,\"solidity\":0.2}},\"type\":\"bar\"}],\"barpolar\":[{\"marker\":{\"line\":{\"color\":\"#E5ECF6\",\"width\":0.5},\"pattern\":{\"fillmode\":\"overlay\",\"size\":10,\"solidity\":0.2}},\"type\":\"barpolar\"}],\"carpet\":[{\"aaxis\":{\"endlinecolor\":\"#2a3f5f\",\"gridcolor\":\"white\",\"linecolor\":\"white\",\"minorgridcolor\":\"white\",\"startlinecolor\":\"#2a3f5f\"},\"baxis\":{\"endlinecolor\":\"#2a3f5f\",\"gridcolor\":\"white\",\"linecolor\":\"white\",\"minorgridcolor\":\"white\",\"startlinecolor\":\"#2a3f5f\"},\"type\":\"carpet\"}],\"choropleth\":[{\"colorbar\":{\"outlinewidth\":0,\"ticks\":\"\"},\"type\":\"choropleth\"}],\"contour\":[{\"colorbar\":{\"outlinewidth\":0,\"ticks\":\"\"},\"colorscale\":[[0.0,\"#0d0887\"],[0.1111111111111111,\"#46039f\"],[0.2222222222222222,\"#7201a8\"],[0.3333333333333333,\"#9c179e\"],[0.4444444444444444,\"#bd3786\"],[0.5555555555555556,\"#d8576b\"],[0.6666666666666666,\"#ed7953\"],[0.7777777777777778,\"#fb9f3a\"],[0.8888888888888888,\"#fdca26\"],[1.0,\"#f0f921\"]],\"type\":\"contour\"}],\"contourcarpet\":[{\"colorbar\":{\"outlinewidth\":0,\"ticks\":\"\"},\"type\":\"contourcarpet\"}],\"heatmap\":[{\"colorbar\":{\"outlinewidth\":0,\"ticks\":\"\"},\"colorscale\":[[0.0,\"#0d0887\"],[0.1111111111111111,\"#46039f\"],[0.2222222222222222,\"#7201a8\"],[0.3333333333333333,\"#9c179e\"],[0.4444444444444444,\"#bd3786\"],[0.5555555555555556,\"#d8576b\"],[0.6666666666666666,\"#ed7953\"],[0.7777777777777778,\"#fb9f3a\"],[0.8888888888888888,\"#fdca26\"],[1.0,\"#f0f921\"]],\"type\":\"heatmap\"}],\"heatmapgl\":[{\"colorbar\":{\"outlinewidth\":0,\"ticks\":\"\"},\"colorscale\":[[0.0,\"#0d0887\"],[0.1111111111111111,\"#46039f\"],[0.2222222222222222,\"#7201a8\"],[0.3333333333333333,\"#9c179e\"],[0.4444444444444444,\"#bd3786\"],[0.5555555555555556,\"#d8576b\"],[0.6666666666666666,\"#ed7953\"],[0.7777777777777778,\"#fb9f3a\"],[0.8888888888888888,\"#fdca26\"],[1.0,\"#f0f921\"]],\"type\":\"heatmapgl\"}],\"histogram\":[{\"marker\":{\"pattern\":{\"fillmode\":\"overlay\",\"size\":10,\"solidity\":0.2}},\"type\":\"histogram\"}],\"histogram2d\":[{\"colorbar\":{\"outlinewidth\":0,\"ticks\":\"\"},\"colorscale\":[[0.0,\"#0d0887\"],[0.1111111111111111,\"#46039f\"],[0.2222222222222222,\"#7201a8\"],[0.3333333333333333,\"#9c179e\"],[0.4444444444444444,\"#bd3786\"],[0.5555555555555556,\"#d8576b\"],[0.6666666666666666,\"#ed7953\"],[0.7777777777777778,\"#fb9f3a\"],[0.8888888888888888,\"#fdca26\"],[1.0,\"#f0f921\"]],\"type\":\"histogram2d\"}],\"histogram2dcontour\":[{\"colorbar\":{\"outlinewidth\":0,\"ticks\":\"\"},\"colorscale\":[[0.0,\"#0d0887\"],[0.1111111111111111,\"#46039f\"],[0.2222222222222222,\"#7201a8\"],[0.3333333333333333,\"#9c179e\"],[0.4444444444444444,\"#bd3786\"],[0.5555555555555556,\"#d8576b\"],[0.6666666666666666,\"#ed7953\"],[0.7777777777777778,\"#fb9f3a\"],[0.8888888888888888,\"#fdca26\"],[1.0,\"#f0f921\"]],\"type\":\"histogram2dcontour\"}],\"mesh3d\":[{\"colorbar\":{\"outlinewidth\":0,\"ticks\":\"\"},\"type\":\"mesh3d\"}],\"parcoords\":[{\"line\":{\"colorbar\":{\"outlinewidth\":0,\"ticks\":\"\"}},\"type\":\"parcoords\"}],\"pie\":[{\"automargin\":true,\"type\":\"pie\"}],\"scatter\":[{\"marker\":{\"colorbar\":{\"outlinewidth\":0,\"ticks\":\"\"}},\"type\":\"scatter\"}],\"scatter3d\":[{\"line\":{\"colorbar\":{\"outlinewidth\":0,\"ticks\":\"\"}},\"marker\":{\"colorbar\":{\"outlinewidth\":0,\"ticks\":\"\"}},\"type\":\"scatter3d\"}],\"scattercarpet\":[{\"marker\":{\"colorbar\":{\"outlinewidth\":0,\"ticks\":\"\"}},\"type\":\"scattercarpet\"}],\"scattergeo\":[{\"marker\":{\"colorbar\":{\"outlinewidth\":0,\"ticks\":\"\"}},\"type\":\"scattergeo\"}],\"scattergl\":[{\"marker\":{\"colorbar\":{\"outlinewidth\":0,\"ticks\":\"\"}},\"type\":\"scattergl\"}],\"scattermapbox\":[{\"marker\":{\"colorbar\":{\"outlinewidth\":0,\"ticks\":\"\"}},\"type\":\"scattermapbox\"}],\"scatterpolar\":[{\"marker\":{\"colorbar\":{\"outlinewidth\":0,\"ticks\":\"\"}},\"type\":\"scatterpolar\"}],\"scatterpolargl\":[{\"marker\":{\"colorbar\":{\"outlinewidth\":0,\"ticks\":\"\"}},\"type\":\"scatterpolargl\"}],\"scatterternary\":[{\"marker\":{\"colorbar\":{\"outlinewidth\":0,\"ticks\":\"\"}},\"type\":\"scatterternary\"}],\"surface\":[{\"colorbar\":{\"outlinewidth\":0,\"ticks\":\"\"},\"colorscale\":[[0.0,\"#0d0887\"],[0.1111111111111111,\"#46039f\"],[0.2222222222222222,\"#7201a8\"],[0.3333333333333333,\"#9c179e\"],[0.4444444444444444,\"#bd3786\"],[0.5555555555555556,\"#d8576b\"],[0.6666666666666666,\"#ed7953\"],[0.7777777777777778,\"#fb9f3a\"],[0.8888888888888888,\"#fdca26\"],[1.0,\"#f0f921\"]],\"type\":\"surface\"}],\"table\":[{\"cells\":{\"fill\":{\"color\":\"#EBF0F8\"},\"line\":{\"color\":\"white\"}},\"header\":{\"fill\":{\"color\":\"#C8D4E3\"},\"line\":{\"color\":\"white\"}},\"type\":\"table\"}]},\"layout\":{\"annotationdefaults\":{\"arrowcolor\":\"#2a3f5f\",\"arrowhead\":0,\"arrowwidth\":1},\"autotypenumbers\":\"strict\",\"coloraxis\":{\"colorbar\":{\"outlinewidth\":0,\"ticks\":\"\"}},\"colorscale\":{\"diverging\":[[0,\"#8e0152\"],[0.1,\"#c51b7d\"],[0.2,\"#de77ae\"],[0.3,\"#f1b6da\"],[0.4,\"#fde0ef\"],[0.5,\"#f7f7f7\"],[0.6,\"#e6f5d0\"],[0.7,\"#b8e186\"],[0.8,\"#7fbc41\"],[0.9,\"#4d9221\"],[1,\"#276419\"]],\"sequential\":[[0.0,\"#0d0887\"],[0.1111111111111111,\"#46039f\"],[0.2222222222222222,\"#7201a8\"],[0.3333333333333333,\"#9c179e\"],[0.4444444444444444,\"#bd3786\"],[0.5555555555555556,\"#d8576b\"],[0.6666666666666666,\"#ed7953\"],[0.7777777777777778,\"#fb9f3a\"],[0.8888888888888888,\"#fdca26\"],[1.0,\"#f0f921\"]],\"sequentialminus\":[[0.0,\"#0d0887\"],[0.1111111111111111,\"#46039f\"],[0.2222222222222222,\"#7201a8\"],[0.3333333333333333,\"#9c179e\"],[0.4444444444444444,\"#bd3786\"],[0.5555555555555556,\"#d8576b\"],[0.6666666666666666,\"#ed7953\"],[0.7777777777777778,\"#fb9f3a\"],[0.8888888888888888,\"#fdca26\"],[1.0,\"#f0f921\"]]},\"colorway\":[\"#636efa\",\"#EF553B\",\"#00cc96\",\"#ab63fa\",\"#FFA15A\",\"#19d3f3\",\"#FF6692\",\"#B6E880\",\"#FF97FF\",\"#FECB52\"],\"font\":{\"color\":\"#2a3f5f\"},\"geo\":{\"bgcolor\":\"white\",\"lakecolor\":\"white\",\"landcolor\":\"#E5ECF6\",\"showlakes\":true,\"showland\":true,\"subunitcolor\":\"white\"},\"hoverlabel\":{\"align\":\"left\"},\"hovermode\":\"closest\",\"mapbox\":{\"style\":\"light\"},\"paper_bgcolor\":\"white\",\"plot_bgcolor\":\"#E5ECF6\",\"polar\":{\"angularaxis\":{\"gridcolor\":\"white\",\"linecolor\":\"white\",\"ticks\":\"\"},\"bgcolor\":\"#E5ECF6\",\"radialaxis\":{\"gridcolor\":\"white\",\"linecolor\":\"white\",\"ticks\":\"\"}},\"scene\":{\"xaxis\":{\"backgroundcolor\":\"#E5ECF6\",\"gridcolor\":\"white\",\"gridwidth\":2,\"linecolor\":\"white\",\"showbackground\":true,\"ticks\":\"\",\"zerolinecolor\":\"white\"},\"yaxis\":{\"backgroundcolor\":\"#E5ECF6\",\"gridcolor\":\"white\",\"gridwidth\":2,\"linecolor\":\"white\",\"showbackground\":true,\"ticks\":\"\",\"zerolinecolor\":\"white\"},\"zaxis\":{\"backgroundcolor\":\"#E5ECF6\",\"gridcolor\":\"white\",\"gridwidth\":2,\"linecolor\":\"white\",\"showbackground\":true,\"ticks\":\"\",\"zerolinecolor\":\"white\"}},\"shapedefaults\":{\"line\":{\"color\":\"#2a3f5f\"}},\"ternary\":{\"aaxis\":{\"gridcolor\":\"white\",\"linecolor\":\"white\",\"ticks\":\"\"},\"baxis\":{\"gridcolor\":\"white\",\"linecolor\":\"white\",\"ticks\":\"\"},\"bgcolor\":\"#E5ECF6\",\"caxis\":{\"gridcolor\":\"white\",\"linecolor\":\"white\",\"ticks\":\"\"}},\"title\":{\"x\":0.05},\"xaxis\":{\"automargin\":true,\"gridcolor\":\"white\",\"linecolor\":\"white\",\"ticks\":\"\",\"title\":{\"standoff\":15},\"zerolinecolor\":\"white\",\"zerolinewidth\":2},\"yaxis\":{\"automargin\":true,\"gridcolor\":\"white\",\"linecolor\":\"white\",\"ticks\":\"\",\"title\":{\"standoff\":15},\"zerolinecolor\":\"white\",\"zerolinewidth\":2}}},\"title\":{\"font\":{\"color\":\"#4D5663\"},\"text\":\"Change in Whole Milk Price vs Change in Nutritional Composition (Safeway, M 19-30)\"},\"xaxis\":{\"gridcolor\":\"#E1E5ED\",\"showgrid\":true,\"tickfont\":{\"color\":\"#4D5663\"},\"title\":{\"font\":{\"color\":\"#4D5663\"},\"text\":\"Whole Milk Price\"},\"zerolinecolor\":\"#E1E5ED\"},\"yaxis\":{\"gridcolor\":\"#E1E5ED\",\"showgrid\":true,\"tickfont\":{\"color\":\"#4D5663\"},\"title\":{\"font\":{\"color\":\"#4D5663\"},\"text\":\"Hectograms\"},\"zerolinecolor\":\"#E1E5ED\"}},                        {\"showLink\": true, \"linkText\": \"Export to plot.ly\", \"plotlyServerURL\": \"https://plot.ly\", \"responsive\": true}                    ).then(function(){\n",
       "                            \n",
       "var gd = document.getElementById('a08e291c-ce5e-45dd-a722-7439b7a1d66d');\n",
       "var x = new MutationObserver(function (mutations, observer) {{\n",
       "        var display = window.getComputedStyle(gd).display;\n",
       "        if (!display || display === 'none') {{\n",
       "            console.log([gd, 'removed!']);\n",
       "            Plotly.purge(gd);\n",
       "            observer.disconnect();\n",
       "        }}\n",
       "}});\n",
       "\n",
       "// Listen for the removal of the full notebook cells\n",
       "var notebookContainer = gd.closest('#notebook-container');\n",
       "if (notebookContainer) {{\n",
       "    x.observe(notebookContainer, {childList: true});\n",
       "}}\n",
       "\n",
       "// Listen for the clearing of the current output cell\n",
       "var outputEl = gd.closest('.output');\n",
       "if (outputEl) {{\n",
       "    x.observe(outputEl, {childList: true});\n",
       "}}\n",
       "\n",
       "                        })                };                });            </script>        </div>"
      ]
     },
     "metadata": {},
     "output_type": "display_data"
    }
   ],
   "source": [
    "#example \n",
    "price_nutrition(\"Safeway\", \"M\", \"19-30\", \"Whole Milk\")"
   ]
  },
  {
   "cell_type": "markdown",
   "id": "9ef8e98c",
   "metadata": {},
   "source": [
    "## [C] Visualization of Comparisons  <a name=\"vis\"></a>\n",
    "\n"
   ]
  },
  {
   "cell_type": "code",
   "execution_count": 31,
   "id": "781f62f9",
   "metadata": {},
   "outputs": [],
   "source": [
    "%matplotlib inline\n",
    "import matplotlib.pyplot as plt\n",
    "plt.style.use('seaborn-notebook')\n",
    "\n",
    "import seaborn as sns "
   ]
  },
  {
   "cell_type": "markdown",
   "id": "8e198db0",
   "metadata": {},
   "source": [
    "### 1. Bar Graph Comparison of the Cost Variation across Stores\n",
    "\n",
    "The `cost_bar` function takes in an age range and generates a bar graph showing the different dietary cost of different stores for both male and female population of the specified age group. \n",
    "\n",
    "**Input Parameter:**\n",
    "\n",
    "- **age**: a str (\"4-8\", \"9-13\", \"14-18\",\"19-30\",\"31-50\", or \"51+\")"
   ]
  },
  {
   "cell_type": "code",
   "execution_count": 32,
   "id": "ac054c3c",
   "metadata": {},
   "outputs": [],
   "source": [
    "def cost_bar(age):\n",
    "    labels = [\"Safeway\", \"Trader Joe's\", \"Amazon Fresh\", \"Berkeley Bowl\", \"Sprout's\"]\n",
    "    tol=1e-6\n",
    "\n",
    "    def helper(group):\n",
    "        p = []\n",
    "        for i in labels:\n",
    "            FoodNutrients = match_n(i)\n",
    "            Prices = match_p(i)\n",
    "            result = solve_subsistence_problem(i, FoodNutrients,Prices,diet_min[group],diet_max[group],tol=tol)\n",
    "            p += [round(result.fun,2)]\n",
    "        return p\n",
    "    male_p = helper(f'M {age}')\n",
    "    female_p = helper(f'F {age}')\n",
    "\n",
    "    x = np.arange(len(labels))  # the label locations\n",
    "    width = 0.35\n",
    "    fig, ax = plt.subplots()\n",
    "    group1 = ax.bar(x - width/2, male_p, width, label=f'M {age}')\n",
    "    group2 = ax.bar(x + width/2, female_p, width, label=f'F {age}')\n",
    "    ax.set_ylabel('Price per Day $')\n",
    "    ax.set_title('Price per Day for Different Stores by Gender')\n",
    "    plt.xticks(x, labels)\n",
    "    ax.legend(frameon=True)\n",
    "\n",
    "    ax.bar_label(group1, padding=3)\n",
    "    ax.bar_label(group2, padding=3)\n",
    "    fig.tight_layout()\n",
    "\n",
    "    plt.show()\n"
   ]
  },
  {
   "cell_type": "code",
   "execution_count": 43,
   "id": "e391eb30",
   "metadata": {},
   "outputs": [
    {
     "data": {
      "application/vnd.jupyter.widget-view+json": {
       "model_id": "7b65162fc92f4684932b476fa7480eda",
       "version_major": 2,
       "version_minor": 0
      },
      "text/plain": [
       "interactive(children=(Dropdown(description='age', options=('4-8', '9-13', '14-18', '19-30', '31-50', '51+'), v…"
      ]
     },
     "metadata": {},
     "output_type": "display_data"
    },
    {
     "data": {
      "text/plain": [
       "<function __main__.cost_bar(age)>"
      ]
     },
     "execution_count": 43,
     "metadata": {},
     "output_type": "execute_result"
    }
   ],
   "source": [
    "#interactive plot to explore differences across age groups \n",
    "# Observaton: the older the age group is, the larger the price difference between Male and Female\n",
    "interact(cost_bar, age = [\"4-8\", \"9-13\", \"14-18\",\"19-30\",\"31-50\", \"51+\"])"
   ]
  },
  {
   "cell_type": "code",
   "execution_count": 34,
   "id": "df908196",
   "metadata": {},
   "outputs": [
    {
     "data": {
      "image/png": "[encoded data removed]",
      "text/plain": [
       "<Figure size 576x396 with 1 Axes>"
      ]
     },
     "metadata": {
      "needs_background": "light"
     },
     "output_type": "display_data"
    },
    {
     "data": {
      "text/plain": [
       "<Figure size 576x396 with 0 Axes>"
      ]
     },
     "metadata": {},
     "output_type": "display_data"
    }
   ],
   "source": [
    "#example of a saved png\n",
    "cost_bar(\"19-30\")\n",
    "plt.savefig('bar.png')"
   ]
  },
  {
   "cell_type": "markdown",
   "id": "fd74e1f6",
   "metadata": {},
   "source": [
    "### 2. Pie Chart Comparison of the Nutritional Contents across Stores\n",
    "\n",
    "The `nutrition_pie` function takes the parameters and generates a pie graph showing percentages of different nutritions in descending order.\n",
    "\n",
    "**Input Parameter:**\n",
    "\n",
    "- **store**: a str with name of the store which is also the name of the individual sheet from the spreadsheet (\"Safeway\", \"Trader Joe's\", \"Amazon Fresh\", \"Berkeley Bowl\", or \"Sprout's\")\n",
    "- **sex**: a str (\"M\" or \"F\"）\n",
    "- **age**: a str (\"4-8\", \"9-13\", \"14-18\",\"19-30\",\"31-50\", or \"51+\")"
   ]
  },
  {
   "cell_type": "code",
   "execution_count": 35,
   "id": "c691ca27",
   "metadata": {},
   "outputs": [],
   "source": [
    "def nutrition_pie(store, sex, age):\n",
    "    group = f'{sex } {age}'\n",
    "    FoodNutrients = match_n(store)\n",
    "    Prices = match_p(store)\n",
    "    tol=1e-6\n",
    "    \n",
    "    #cleaning data\n",
    "    result = solve_subsistence_problem(store, FoodNutrients , Prices, diet_min[group], diet_max[group], tol=1e-6)\n",
    "    diet = result.diet\n",
    "    test = np.abs(result.A).dot(diet)\n",
    "    a = pd.DataFrame(data = test)\n",
    "    a = a.sort_values(0, ascending=False)\n",
    "    x = a.values.tolist()\n",
    "    #flatten 2D list\n",
    "    import itertools\n",
    "    x = list(itertools.chain.from_iterable(x))\n",
    "    #round amount to the nearest integer\n",
    "    x = np.array([int(n) for n in x])\n",
    "    my_lables = a.index.tolist()\n",
    "    myexplode = [0.1, 0, 0, 0,0,0,0,0,0,0,0,0,0,0,0,0,0,0,0,0,0]\n",
    "\n",
    "    #creating pie chart\n",
    "    colors = sns.color_palette(\"cubehelix_r\", len(x))\n",
    "    porcent = 100.*x/x.sum()\n",
    "    patches, texts = plt.pie(x, colors= colors, startangle=90, shadow=True,  radius=1.2, explode =myexplode)\n",
    "    labels = ['{0} - {1:1.2f} %'.format(i,j) for i,j in zip(my_lables, porcent)]\n",
    "\n",
    "    \n",
    "    sort_legend = True\n",
    "    if sort_legend:\n",
    "        patches, labels, dummy =  zip(*sorted(zip(patches, labels, x),\n",
    "                                          key=lambda x: x[2],\n",
    "                                          reverse=True))\n",
    "    plt.legend(patches, labels, loc='best', bbox_to_anchor=(-0.1, 1.),\n",
    "           fontsize=8)\n",
    "    plt.title(f\"Nutritional Content of a Vegetarian Diet, ({store}, {sex} {age})\", bbox={'facecolor':'0.8', 'pad':5}, y=1.05)\n",
    "    plt.show()"
   ]
  },
  {
   "cell_type": "code",
   "execution_count": 36,
   "id": "302d4736",
   "metadata": {},
   "outputs": [
    {
     "data": {
      "application/vnd.jupyter.widget-view+json": {
       "model_id": "463fc2358fec4eec84769aa8e1b4862a",
       "version_major": 2,
       "version_minor": 0
      },
      "text/plain": [
       "interactive(children=(Dropdown(description='store', options=('Safeway', \"Trader Joe's\", 'Amazon Fresh', 'Berke…"
      ]
     },
     "metadata": {},
     "output_type": "display_data"
    },
    {
     "data": {
      "text/plain": [
       "<function __main__.nutrition_pie(store, sex, age)>"
      ]
     },
     "execution_count": 36,
     "metadata": {},
     "output_type": "execute_result"
    }
   ],
   "source": [
    "#interactive pie chart to explore differences across different stores, sex-age groups\n",
    "interact(nutrition_pie,\n",
    "         store = [\"Safeway\", \"Trader Joe's\", \"Amazon Fresh\", \"Berkeley Bowl\", \"Sprout's\"],\n",
    "         sex = [\"M\",\"F\"],\n",
    "         age = [\"4-8\", \"9-13\", \"14-18\",\"19-30\",\"31-50\",\"51+\"])"
   ]
  },
  {
   "cell_type": "code",
   "execution_count": 37,
   "id": "ba795386",
   "metadata": {},
   "outputs": [
    {
     "data": {
      "image/png": "[encoded data removed]",
      "text/plain": [
       "<Figure size 576x396 with 1 Axes>"
      ]
     },
     "metadata": {},
     "output_type": "display_data"
    },
    {
     "data": {
      "text/plain": [
       "<Figure size 576x396 with 0 Axes>"
      ]
     },
     "metadata": {},
     "output_type": "display_data"
    }
   ],
   "source": [
    "#example of a saved png\n",
    "nutrition_pie(\"Amazon Fresh\", \"M\", \"19-30\")\n",
    "plt.savefig('piechart.png')"
   ]
  },
  {
   "cell_type": "code",
   "execution_count": null,
   "id": "f2e1ba98",
   "metadata": {},
   "outputs": [],
   "source": []
  },
  {
   "cell_type": "markdown",
   "id": "838c1d1b",
   "metadata": {},
   "source": [
    "## Response & Improvment after Code Review  <a name=\"res\"></a>\n",
    "Thank you all for the constructive feedback!\n",
    "\n",
    "1. For Group Justus von Liebig:\n",
    "\n",
    "    - Sorry about the API error, and unfortunately, it can't be solved on our end.\n",
    "    - We have further clarified our goals in the description and more information can be found in our presentation and the slides. \n",
    "    - The sensitivity solution graph you mentioned is meant to be interactive, so it won't show in the PDF. We will demonstrate the function in the code run-through portion of our presentation. \n",
    "    - The nutrition pie chart also has an interactive function that allows the viewer to explore the differences across different age-gender groups which we will further explain in the presentation \n",
    "    \n",
    "\n",
    "2. For Group Harriet Chick\n",
    "\n",
    "    - It would definitely be very useful for the viewers to be able to see the units in the `necessary_nutrients()`  and `cheapest_diet()` functions. However, all the nutrients (macronutrients, minerals, and vitamins) have different units, and specifying each will increase the lengthiness of this function and future computation; instead of the exact intake of each nutrient, our target population might be more concerned with the unit of food they eventually need to consume which we have specified in the solution part. The `unit_convert` and `nutrient` functions already address the issue of the discrepancy of the units. If you want a detailed account of the units of all the nutrients, please refer to Appendix 1 in https://www.dietaryguidelines.gov/sites/default/files/2020-12/Dietary_Guidelines_for_Americans_2020-2025.pdf \n",
    "    - We will further address the delivery fee issue in our presentation. However, we felt this cost-minimized diet problem should only consider the direct cost (aka the food price) for all stores; although Amazon Fresh has a delivery fee, you can also consider how there would be potential transportation fees when commuting to the other stores. This indirect cost is definitely a factor of consideration, but we think it can only be thoroughly answered as a separate topic of exploration. The amazon delivery fee also could be zero or any price from $2-5 which is wholly dependent on the amount of food or other product that the consumer decides to purchase which is highly variable and hard to quantify since it's a personal preference. \n",
    "    - Our age bins are entirely based on the FDA's information and how they dissected the age groups. As we have specified, the \"51+\" bin actually does include older people.  \n",
    "    - We felt pie charts are appropriate to represent the data because the nutritions add up to a meaningful whole that is approximately the same across different stores. Rather than stressing the exact quantity of nutritional consumption, pie charts here are meant to demonstrate the different nutritional emphasis of each diet, and they highlight the proportional differences (which we are going to further explain in the presentation) better than bar charts do. Based on your suggestion, we have created another function below that outputs a 2D pie chart with a ordered legend and some of the more trivial nutrients combined into the \"Other\" category. "
   ]
  },
  {
   "cell_type": "code",
   "execution_count": 41,
   "id": "685e2b97",
   "metadata": {},
   "outputs": [],
   "source": [
    "def nutrition_pie_other(store, sex, age):\n",
    "    group = f'{sex } {age}'\n",
    "    FoodNutrients = match_n(store)\n",
    "    Prices = match_p(store)\n",
    "    tol=1e-6\n",
    "    \n",
    "    #cleaning data\n",
    "    result = solve_subsistence_problem(store, FoodNutrients , Prices, diet_min[group], diet_max[group], tol=1e-6)\n",
    "    diet = result.diet\n",
    "    test = np.abs(result.A).dot(diet)\n",
    "    a = pd.DataFrame(data = test)\n",
    "    a = a.sort_values(0, ascending=False)\n",
    "    x = a.values.tolist()\n",
    "    #flatten 2D list\n",
    "    import itertools\n",
    "    x = list(itertools.chain.from_iterable(x))\n",
    "    #round amount to the nearest integer\n",
    "    x = np.array([int(n) for n in x])\n",
    "    x = np.append(x[:9], sum(x[9:]))\n",
    "\n",
    "    my_lables = a.index.tolist()\n",
    "    my_lables = my_lables[:9]+ [\"Other Nutrients (each less than 1%)\"]\n",
    "    myexplode = [0.1, 0, 0, 0,0,0,0,0,0,0]\n",
    "\n",
    "    #creating pie chart\n",
    "    colors = sns.color_palette(\"cubehelix_r\", len(x))\n",
    "    porcent = 100.*x/x.sum()\n",
    "    patches, texts = plt.pie(x, colors= colors, startangle=90, radius=1.2, explode =myexplode)\n",
    "    labels = ['{0} - {1:1.2f} %'.format(i,j) for i,j in zip(my_lables, porcent)]\n",
    "\n",
    "    \n",
    "    sort_legend = True\n",
    "    if sort_legend:\n",
    "        patches, labels, dummy =  zip(*sorted(zip(patches, labels, x),\n",
    "                                          key=lambda x: x[2],\n",
    "                                          reverse=True))\n",
    "    plt.legend(patches, labels, loc='best', bbox_to_anchor=(-0.1, 1.),\n",
    "           fontsize=8)\n",
    "    plt.title(f\"Nutritional Content of a Vegetarian Diet, ({store}, {sex} {age})\", bbox={'facecolor':'0.8', 'pad':5}, y=1.05)\n",
    "    plt.show()"
   ]
  },
  {
   "cell_type": "code",
   "execution_count": 42,
   "id": "22d5b993",
   "metadata": {},
   "outputs": [
    {
     "data": {
      "image/png": "[encoded data removed]",
      "text/plain": [
       "<Figure size 576x396 with 1 Axes>"
      ]
     },
     "metadata": {},
     "output_type": "display_data"
    }
   ],
   "source": [
    "nutrition_pie_other(\"Amazon Fresh\", \"M\", \"19-30\")\n"
   ]
  },
  {
   "cell_type": "code",
   "execution_count": null,
   "id": "fd3b1038",
   "metadata": {},
   "outputs": [],
   "source": []
  }
 ],
 "metadata": {
  "kernelspec": {
   "display_name": "Python 3 (ipykernel)",
   "language": "python",
   "name": "python3"
  },
  "language_info": {
   "codemirror_mode": {
    "name": "ipython",
    "version": 3
   },
   "file_extension": ".py",
   "mimetype": "text/x-python",
   "name": "python",
   "nbconvert_exporter": "python",
   "pygments_lexer": "ipython3",
   "version": "3.9.10"
  }
 },
 "nbformat": 4,
 "nbformat_minor": 5
}
